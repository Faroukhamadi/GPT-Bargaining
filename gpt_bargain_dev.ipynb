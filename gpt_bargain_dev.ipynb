{
 "cells": [
  {
   "cell_type": "markdown",
   "id": "d904f26f-2fa8-4536-910d-9c519a7e21b4",
   "metadata": {},
   "source": [
    "# GPT Bargaining"
   ]
  },
  {
   "cell_type": "code",
   "execution_count": 23,
   "id": "3e0fa832-744f-4a3b-bd9e-353cab4ea577",
   "metadata": {},
   "outputs": [],
   "source": [
    "import openai\n",
    "import re\n",
    "import time\n",
    "\n",
    "import numpy as np\n",
    "\n",
    "from tqdm import tqdm\n",
    "from agent import GPTAgent"
   ]
  },
  {
   "cell_type": "code",
   "execution_count": 2,
   "id": "f5ea97b7-7a02-41d2-8616-ed7dcbdf9fc0",
   "metadata": {},
   "outputs": [],
   "source": [
    "openai.api_key = \"sk-\" "
   ]
  },
  {
   "cell_type": "markdown",
   "id": "be6b9469-5ae2-4c3f-a1a7-2cf7e2d617d0",
   "metadata": {},
   "source": [
    "# Initial Test"
   ]
  },
  {
   "cell_type": "code",
   "execution_count": 3,
   "id": "eb151ec7-3a8b-497a-aaba-a3c73b296001",
   "metadata": {},
   "outputs": [],
   "source": [
    "response = openai.ChatCompletion.create(\n",
    "  model=\"gpt-3.5-turbo\",\n",
    "  messages=[\n",
    "        {\"role\": \"system\", \"content\": \"You are a helpful assistant.\"},\n",
    "        {\"role\": \"user\", \"content\": \"Who won the world series in 2020?\"},\n",
    "        {\"role\": \"assistant\", \"content\": \"The Los Angeles Dodgers won the World Series in 2020.\"},\n",
    "        {\"role\": \"user\", \"content\": \"Where was it played?\"}\n",
    "    ]\n",
    ")"
   ]
  },
  {
   "cell_type": "code",
   "execution_count": 4,
   "id": "c2c39f88-f8d1-40ae-96ed-2c5746862d88",
   "metadata": {},
   "outputs": [
    {
     "data": {
      "text/plain": [
       "<OpenAIObject chat.completion id=chatcmpl-6pWyj9YUv3Ixyb1wzL8uQuAMyDBNh at 0x7ff629003f50> JSON: {\n",
       "  \"choices\": [\n",
       "    {\n",
       "      \"finish_reason\": \"stop\",\n",
       "      \"index\": 0,\n",
       "      \"message\": {\n",
       "        \"content\": \"The 2020 World Series was played in Arlington, Texas.\",\n",
       "        \"role\": \"assistant\"\n",
       "      }\n",
       "    }\n",
       "  ],\n",
       "  \"created\": 1677739517,\n",
       "  \"id\": \"chatcmpl-6pWyj9YUv3Ixyb1wzL8uQuAMyDBNh\",\n",
       "  \"model\": \"gpt-3.5-turbo-0301\",\n",
       "  \"object\": \"chat.completion\",\n",
       "  \"usage\": {\n",
       "    \"completion_tokens\": 15,\n",
       "    \"prompt_tokens\": 56,\n",
       "    \"total_tokens\": 71\n",
       "  }\n",
       "}"
      ]
     },
     "execution_count": 4,
     "metadata": {},
     "output_type": "execute_result"
    }
   ],
   "source": [
    "response"
   ]
  },
  {
   "cell_type": "markdown",
   "id": "bf311740-ead7-4281-9079-27a4544da4d0",
   "metadata": {},
   "source": [
    "# Bargaining"
   ]
  },
  {
   "cell_type": "code",
   "execution_count": 24,
   "id": "36274d2a-7cfb-45d4-89c4-ffd801b4d305",
   "metadata": {},
   "outputs": [],
   "source": [
    "seller_initial_instruction = open('initial_instructions/seller.txt').read()\n",
    "seller = GPTAgent(initial_instruction=seller_initial_instruction)"
   ]
  },
  {
   "cell_type": "code",
   "execution_count": 25,
   "id": "9f2420d1-f417-4182-8505-45e3ba711755",
   "metadata": {},
   "outputs": [
    {
     "data": {
      "text/plain": [
       "[{'role': 'system', 'content': 'You are a helpful assistant.'},\n",
       " {'role': 'user',\n",
       "  'content': \"Let's play a game. You are a balloon seller. You have a balloon to sell. You are bargaining with a buyer. The cost of your balloon is $10. Now you have a buyer asking for the price. Your start price is $20. Your goal is to sell it to a high price, as high as possible.\\n\\nYou should only respond to your buyer with one short, succinct sentence. Are your ready to play the game?\"},\n",
       " {'role': 'assistant', 'content': \"Yes, I'm ready to play the game!\"}]"
      ]
     },
     "execution_count": 25,
     "metadata": {},
     "output_type": "execute_result"
    }
   ],
   "source": [
    "seller.dialog_history"
   ]
  },
  {
   "cell_type": "code",
   "execution_count": 26,
   "id": "d73c23ae-4a36-4382-a5dc-c9fe4b6cc344",
   "metadata": {},
   "outputs": [],
   "source": [
    "buyer_initial_instruction = open('initial_instructions/buyer.txt').read()\n",
    "buyer = GPTAgent(initial_instruction=buyer_initial_instruction)"
   ]
  },
  {
   "cell_type": "code",
   "execution_count": 27,
   "id": "6cd6321a-d53f-4b4b-a7c7-4b88c22c7f25",
   "metadata": {},
   "outputs": [
    {
     "data": {
      "text/plain": [
       "[{'role': 'system', 'content': 'You are a helpful assistant.'},\n",
       " {'role': 'user',\n",
       "  'content': \"Let's play a game. You are a balloon buyer. You want to buy a balloon. You are bargaining with a seller. You do not know the market price because you are entering a new country. Now you are asking a seller. Your goal is to buy it with a low price, as low as possible.\\n\\nYou should only respond to your buyer with one short, succinct sentence. \\nNow ask a price. \"},\n",
       " {'role': 'assistant', 'content': 'How much for the balloon?'}]"
      ]
     },
     "execution_count": 27,
     "metadata": {},
     "output_type": "execute_result"
    }
   ],
   "source": [
    "buyer.dialog_history"
   ]
  },
  {
   "cell_type": "code",
   "execution_count": 28,
   "id": "c1ff4bb4-a37c-486d-ba2c-11baf4cc7e6a",
   "metadata": {},
   "outputs": [
    {
     "name": "stderr",
     "output_type": "stream",
     "text": [
      "100%|███████████████████████████████████████████████████████████████████████████████████████████████████████████████████████████| 5/5 [00:03<00:00,  1.27it/s]\n"
     ]
    }
   ],
   "source": [
    "buyer_query = buyer.dialog_history[-1]['content']\n",
    "for _ in tqdm(range(5)):\n",
    "    seller_response = seller.call(buyer_query)\n",
    "    buyer_query = buyer.call(seller_response)"
   ]
  },
  {
   "cell_type": "code",
   "execution_count": 29,
   "id": "533cbb20-027a-4931-9d22-1a1f419ae2b9",
   "metadata": {},
   "outputs": [
    {
     "data": {
      "text/plain": [
       "[{'role': 'system', 'content': 'You are a helpful assistant.'},\n",
       " {'role': 'user',\n",
       "  'content': \"Let's play a game. You are a balloon buyer. You want to buy a balloon. You are bargaining with a seller. You do not know the market price because you are entering a new country. Now you are asking a seller. Your goal is to buy it with a low price, as low as possible.\\n\\nYou should only respond to your buyer with one short, succinct sentence. \\nNow ask a price. \"},\n",
       " {'role': 'assistant', 'content': 'How much for the balloon?'},\n",
       " {'role': 'user',\n",
       "  'content': \"It's a high-quality balloon, exclusively priced at $20.\"},\n",
       " {'role': 'assistant', 'content': \"I'll offer $10 for the balloon.\"},\n",
       " {'role': 'user',\n",
       "  'content': 'I appreciate your offer, but this balloon is worth at least $17.'},\n",
       " {'role': 'assistant', 'content': 'How about $14 for the balloon?'},\n",
       " {'role': 'user',\n",
       "  'content': \"I can let it go for $16, but that's the lowest price I can offer for such a high-quality balloon.\"},\n",
       " {'role': 'assistant',\n",
       "  'content': \"Alright, it's a deal. I'll take the balloon for $16. Thank you!\"},\n",
       " {'role': 'user',\n",
       "  'content': 'Great! Thank you for your purchase. Enjoy your new balloon!'},\n",
       " {'role': 'assistant', 'content': \"You're welcome! Have a nice day!\"},\n",
       " {'role': 'user', 'content': 'Thank you! You too!'},\n",
       " {'role': 'assistant', 'content': \"You're welcome!\"}]"
      ]
     },
     "execution_count": 29,
     "metadata": {},
     "output_type": "execute_result"
    }
   ],
   "source": [
    "buyer.dialog_history"
   ]
  },
  {
   "cell_type": "code",
   "execution_count": null,
   "id": "bef709c3-29ae-479c-9b81-f784e4ee0916",
   "metadata": {},
   "outputs": [],
   "source": []
  }
 ],
 "metadata": {
  "kernelspec": {
   "display_name": "Python 3 (ipykernel)",
   "language": "python",
   "name": "python3"
  },
  "language_info": {
   "codemirror_mode": {
    "name": "ipython",
    "version": 3
   },
   "file_extension": ".py",
   "mimetype": "text/x-python",
   "name": "python",
   "nbconvert_exporter": "python",
   "pygments_lexer": "ipython3",
   "version": "3.7.11"
  }
 },
 "nbformat": 4,
 "nbformat_minor": 5
}
