{
 "cells": [
  {
   "cell_type": "markdown",
   "id": "d904f26f-2fa8-4536-910d-9c519a7e21b4",
   "metadata": {},
   "source": [
    "# GPT Bargaining"
   ]
  },
  {
   "cell_type": "code",
   "execution_count": 1,
   "id": "3e0fa832-744f-4a3b-bd9e-353cab4ea577",
   "metadata": {},
   "outputs": [],
   "source": [
    "from revChatGPT.V1 import Chatbot"
   ]
  },
  {
   "cell_type": "code",
   "execution_count": 2,
   "id": "6495bfa5-8e3f-4699-b29a-de4c52916954",
   "metadata": {},
   "outputs": [],
   "source": [
    "chatbot = Chatbot(config={\n",
    "  \"email\": \"yao.fu@ed.ac.uk\",\n",
    "  \"password\": \"\"\n",
    "})"
   ]
  },
  {
   "cell_type": "code",
   "execution_count": 3,
   "id": "791b5d01-108e-4952-97db-c877712eec96",
   "metadata": {},
   "outputs": [
    {
     "name": "stdout",
     "output_type": "stream",
     "text": [
      "Portugal has a long coastline and is known for its beautiful beaches. While it's difficult to give an exact number, as the definition of a \"beach\" can vary, there are over 900 beaches along the mainland coast of Portugal. In addition to these, Portugal also has beaches on its islands, including the Azores and Madeira, which would bring the total number of beaches to well over 1000.\n"
     ]
    }
   ],
   "source": [
    "prompt = \"how many beaches does portugal have?\"\n",
    "response = \"\"\n",
    "\n",
    "for data in chatbot.ask(\n",
    "  prompt\n",
    "):\n",
    "    response = data[\"message\"]\n",
    "\n",
    "print(response)"
   ]
  },
  {
   "cell_type": "code",
   "execution_count": null,
   "id": "eb151ec7-3a8b-497a-aaba-a3c73b296001",
   "metadata": {},
   "outputs": [],
   "source": []
  }
 ],
 "metadata": {
  "kernelspec": {
   "display_name": "Python 3 (ipykernel)",
   "language": "python",
   "name": "python3"
  },
  "language_info": {
   "codemirror_mode": {
    "name": "ipython",
    "version": 3
   },
   "file_extension": ".py",
   "mimetype": "text/x-python",
   "name": "python",
   "nbconvert_exporter": "python",
   "pygments_lexer": "ipython3",
   "version": "3.7.11"
  }
 },
 "nbformat": 4,
 "nbformat_minor": 5
}
