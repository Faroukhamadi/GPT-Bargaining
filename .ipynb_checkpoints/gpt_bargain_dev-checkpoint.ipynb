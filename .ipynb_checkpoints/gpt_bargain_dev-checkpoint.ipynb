{
 "cells": [
  {
   "cell_type": "markdown",
   "id": "d904f26f-2fa8-4536-910d-9c519a7e21b4",
   "metadata": {},
   "source": [
    "# GPT Bargaining"
   ]
  },
  {
   "cell_type": "code",
   "execution_count": 1,
   "id": "3e0fa832-744f-4a3b-bd9e-353cab4ea577",
   "metadata": {},
   "outputs": [],
   "source": [
    "import openai\n",
    "import re\n",
    "import time\n",
    "\n",
    "import numpy as np\n",
    "\n",
    "from tqdm import tqdm"
   ]
  },
  {
   "cell_type": "code",
   "execution_count": 2,
   "id": "f5ea97b7-7a02-41d2-8616-ed7dcbdf9fc0",
   "metadata": {},
   "outputs": [],
   "source": [
    "openai.api_key = \"sk-\" "
   ]
  },
  {
   "cell_type": "markdown",
   "id": "be6b9469-5ae2-4c3f-a1a7-2cf7e2d617d0",
   "metadata": {},
   "source": [
    "# Initial Test"
   ]
  },
  {
   "cell_type": "code",
   "execution_count": 3,
   "id": "eb151ec7-3a8b-497a-aaba-a3c73b296001",
   "metadata": {},
   "outputs": [],
   "source": [
    "response = openai.ChatCompletion.create(\n",
    "  model=\"gpt-3.5-turbo\",\n",
    "  messages=[\n",
    "        {\"role\": \"system\", \"content\": \"You are a helpful assistant.\"},\n",
    "        {\"role\": \"user\", \"content\": \"Who won the world series in 2020?\"},\n",
    "        {\"role\": \"assistant\", \"content\": \"The Los Angeles Dodgers won the World Series in 2020.\"},\n",
    "        {\"role\": \"user\", \"content\": \"Where was it played?\"}\n",
    "    ]\n",
    ")"
   ]
  },
  {
   "cell_type": "code",
   "execution_count": 4,
   "id": "c2c39f88-f8d1-40ae-96ed-2c5746862d88",
   "metadata": {},
   "outputs": [
    {
     "data": {
      "text/plain": [
       "<OpenAIObject chat.completion id=chatcmpl-6pWyj9YUv3Ixyb1wzL8uQuAMyDBNh at 0x7ff629003f50> JSON: {\n",
       "  \"choices\": [\n",
       "    {\n",
       "      \"finish_reason\": \"stop\",\n",
       "      \"index\": 0,\n",
       "      \"message\": {\n",
       "        \"content\": \"The 2020 World Series was played in Arlington, Texas.\",\n",
       "        \"role\": \"assistant\"\n",
       "      }\n",
       "    }\n",
       "  ],\n",
       "  \"created\": 1677739517,\n",
       "  \"id\": \"chatcmpl-6pWyj9YUv3Ixyb1wzL8uQuAMyDBNh\",\n",
       "  \"model\": \"gpt-3.5-turbo-0301\",\n",
       "  \"object\": \"chat.completion\",\n",
       "  \"usage\": {\n",
       "    \"completion_tokens\": 15,\n",
       "    \"prompt_tokens\": 56,\n",
       "    \"total_tokens\": 71\n",
       "  }\n",
       "}"
      ]
     },
     "execution_count": 4,
     "metadata": {},
     "output_type": "execute_result"
    }
   ],
   "source": [
    "response"
   ]
  },
  {
   "cell_type": "markdown",
   "id": "bf311740-ead7-4281-9079-27a4544da4d0",
   "metadata": {},
   "source": [
    "# Bargaining"
   ]
  },
  {
   "cell_type": "code",
   "execution_count": 7,
   "id": "cad9dffa-fd11-439b-86aa-8d8776a7c9b1",
   "metadata": {},
   "outputs": [],
   "source": [
    "class GPTAgent(object):\n",
    "    def __init__(self, \n",
    "                 system_instruction=\"You are a helpful assistant.\", \n",
    "                 initial_instruction=\"\", \n",
    "                 role=\"\"\n",
    "                ):\n",
    "        super().__init__()\n",
    "        \n",
    "        self.role = role\n",
    "        self.system_instruction = system_instruction\n",
    "        self.initial_instruction = initial_instruction\n",
    "        \n",
    "        self.dialog_history = [{\"role\": \"system\", \"content\": system_instruction}]\n",
    "        self.history_len = 0\n",
    "        \n",
    "        if(len(initial_instruction) > 0): self.call(initial_instruction)\n",
    "        return \n",
    "    \n",
    "    def call(self, prompt):\n",
    "        prompt = {\"role\": \"user\", \"content\": prompt}\n",
    "        messages = list(self.dialog_history)\n",
    "        messages.append(prompt)\n",
    "        self.dialog_history.append(prompt)\n",
    "        \n",
    "        response = openai.ChatCompletion.create(\n",
    "                      model=\"gpt-3.5-turbo\",\n",
    "                      messages=messages\n",
    "                    )\n",
    "        message = response['choices'][0]['message']\n",
    "        assert(message['role'] == 'assistant')\n",
    "        self.dialog_history.append(message)\n",
    "        self.history_len = response['usage']['total_tokens']\n",
    "        return message['content']"
   ]
  },
  {
   "cell_type": "code",
   "execution_count": 8,
   "id": "36274d2a-7cfb-45d4-89c4-ffd801b4d305",
   "metadata": {},
   "outputs": [],
   "source": [
    "seller_initial_instruction = \"Let's play a game. You are a balloon seller. You have a balloon to sell. You are bargaining with a buyer. The cost of your balloon is $10. Now you have a buyer asking for the price. Your start price is $20. Your goal is to sell it to a high price, as high as possible.\\nYou should only respond to your buyer with one short, succinct sentence. Are your ready to play the game?\"\n",
    "seller = GPTAgent(initial_instruction=seller_initial_instruction)"
   ]
  },
  {
   "cell_type": "code",
   "execution_count": 9,
   "id": "9f2420d1-f417-4182-8505-45e3ba711755",
   "metadata": {},
   "outputs": [
    {
     "data": {
      "text/plain": [
       "[{'role': 'system', 'content': 'You are a helpful assistant.'},\n",
       " <OpenAIObject at 0x7ff6290d4890> JSON: {\n",
       "   \"content\": \"Yes, I'm ready to play the game.\",\n",
       "   \"role\": \"assistant\"\n",
       " }]"
      ]
     },
     "execution_count": 9,
     "metadata": {},
     "output_type": "execute_result"
    }
   ],
   "source": [
    "seller.dialog_history"
   ]
  },
  {
   "cell_type": "code",
   "execution_count": null,
   "id": "d73c23ae-4a36-4382-a5dc-c9fe4b6cc344",
   "metadata": {},
   "outputs": [],
   "source": []
  }
 ],
 "metadata": {
  "kernelspec": {
   "display_name": "Python 3 (ipykernel)",
   "language": "python",
   "name": "python3"
  },
  "language_info": {
   "codemirror_mode": {
    "name": "ipython",
    "version": 3
   },
   "file_extension": ".py",
   "mimetype": "text/x-python",
   "name": "python",
   "nbconvert_exporter": "python",
   "pygments_lexer": "ipython3",
   "version": "3.7.11"
  }
 },
 "nbformat": 4,
 "nbformat_minor": 5
}
