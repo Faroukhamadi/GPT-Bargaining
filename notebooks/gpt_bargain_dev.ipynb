{
 "cells": [
  {
   "cell_type": "markdown",
   "id": "d904f26f-2fa8-4536-910d-9c519a7e21b4",
   "metadata": {},
   "source": [
    "# GPT Bargaining\n"
   ]
  },
  {
   "cell_type": "code",
   "execution_count": 3,
   "id": "3e0fa832-744f-4a3b-bd9e-353cab4ea577",
   "metadata": {},
   "outputs": [],
   "source": [
    "import sys\n",
    "import os\n",
    "\n",
    "sys.path.append(\"..\")\n",
    "import openai\n",
    "import re\n",
    "import time\n",
    "import json\n",
    "import matplotlib.pyplot as plt\n",
    "from dotenv import load_dotenv\n",
    "\n",
    "load_dotenv()\n",
    "\n",
    "import numpy as np\n",
    "\n",
    "from tqdm import tqdm\n",
    "from pprint import pprint\n",
    "from agent import (\n",
    "    load_initial_instructions,\n",
    "    involve_moderator,\n",
    "    parse_final_price,\n",
    "    BuyerAgent,\n",
    "    SellerAgent,\n",
    "    ModeratorAgent,\n",
    "    SellerCriticAgent,\n",
    ")\n",
    "from utils import wprint\n",
    "from tenacity import retry, stop_after_attempt, wait_chain, wait_fixed"
   ]
  },
  {
   "cell_type": "code",
   "execution_count": 14,
   "id": "4a2c1602-a4bb-462c-a8fb-f413bef47da3",
   "metadata": {
    "tags": []
   },
   "outputs": [],
   "source": [
    "openai.api_key = os.environ.get(\"OPENAI_API_KEY\")"
   ]
  },
  {
   "cell_type": "code",
   "execution_count": 5,
   "id": "f5ea97b7-7a02-41d2-8616-ed7dcbdf9fc0",
   "metadata": {},
   "outputs": [],
   "source": [
    "# openai.organization = \"\"\n",
    "# openai.api_key = \"\""
   ]
  },
  {
   "cell_type": "markdown",
   "id": "bf311740-ead7-4281-9079-27a4544da4d0",
   "metadata": {},
   "source": [
    "# Bargaining\n"
   ]
  },
  {
   "cell_type": "markdown",
   "id": "09c01ff2-646a-4f24-b02c-0797fd888c08",
   "metadata": {},
   "source": [
    "## Seller Init.\n"
   ]
  },
  {
   "cell_type": "code",
   "execution_count": 6,
   "id": "36274d2a-7cfb-45d4-89c4-ffd801b4d305",
   "metadata": {},
   "outputs": [
    {
     "name": "stdout",
     "output_type": "stream",
     "text": [
      "Initializing seller with engine gpt-3.5-turbo\n",
      "[{'content': 'Now enter the role-playing mode. In the following conversation, '\n",
      "             'you will play as a seller in a bargaining game.',\n",
      "  'role': 'system'},\n",
      " {'content': \"Let's play a game. You are a balloon seller bargaining with a \"\n",
      "             'buyer. The cost of your balloon is $10 and your starting price '\n",
      "             'is $20. Your goal is to sell it to a high price. You should only '\n",
      "             'respond to your buyer with one short, succinct sentence. Are '\n",
      "             'your ready to play the game?',\n",
      "  'role': 'user'},\n",
      " {'content': \"Yes, I'm ready to play the game!\", 'role': 'assistant'},\n",
      " {'content': 'Hi, how much is the balloon?', 'role': 'user'},\n",
      " {'content': 'Hi, this is a good balloon and its price is $20',\n",
      "  'role': 'assistant'}]\n"
     ]
    }
   ],
   "source": [
    "# seller_initial_dialog_history = load_initial_instructions(\"instructions/seller.txt\")\n",
    "seller_initial_dialog_history = load_initial_instructions(\"../lib_prompt/seller.txt\")\n",
    "seller = SellerAgent(\n",
    "    initial_dialog_history=seller_initial_dialog_history,\n",
    "    agent_type=\"seller\",\n",
    "    engine=\"gpt-3.5-turbo\",\n",
    ")\n",
    "pprint(seller.dialog_history)"
   ]
  },
  {
   "cell_type": "code",
   "execution_count": 7,
   "id": "d73c23ae-4a36-4382-a5dc-c9fe4b6cc344",
   "metadata": {},
   "outputs": [
    {
     "name": "stdout",
     "output_type": "stream",
     "text": [
      "Initializing buyer with engine gpt-3.5-turbo\n",
      "[{'content': 'Now enter the role-playing mode. In the following conversation, '\n",
      "             'you will play as a buyer in a bargaining game.',\n",
      "  'role': 'system'},\n",
      " {'content': \"Let's play a game. You want to buy a balloon and you are \"\n",
      "             'bargaining with a seller. Your goal is to buy it with a low '\n",
      "             'price, as low as possible. You should only respond to your '\n",
      "             'seller with one short, succinct sentence. Now ask a price.',\n",
      "  'role': 'user'},\n",
      " {'content': 'Hi, how much is the balloon?', 'role': 'assistant'},\n",
      " {'content': 'Hi, this is a good balloon and its price is $20', 'role': 'user'},\n",
      " {'content': 'Would you consider selling it for $10?', 'role': 'assistant'}]\n"
     ]
    }
   ],
   "source": [
    "buyer_initial_dialog_history = load_initial_instructions(\"../lib_prompt/buyer.txt\")\n",
    "buyer = BuyerAgent(\n",
    "    initial_dialog_history=buyer_initial_dialog_history,\n",
    "    agent_type=\"buyer\",\n",
    "    engine=\"gpt-3.5-turbo\",\n",
    ")\n",
    "pprint(buyer.dialog_history)"
   ]
  },
  {
   "cell_type": "code",
   "execution_count": 8,
   "id": "6cd6321a-d53f-4b4b-a7c7-4b88c22c7f25",
   "metadata": {},
   "outputs": [
    {
     "name": "stdout",
     "output_type": "stream",
     "text": [
      "Initializing moderator with engine gpt-3.5-turbo\n",
      "[{'content': 'Now enter the role-playing mode. In the following conversation, '\n",
      "             'you will play as a moderator in a bargaining game.',\n",
      "  'role': 'system'},\n",
      " {'content': \"Let's play a game. You are the moderator of a bargaining game. \"\n",
      "             'Your role is to decide if a seller and a buyer have reached a '\n",
      "             'deal during the bargaining following the example:\\n'\n",
      "             '\\n'\n",
      "             'buyer: Can we meet in the middle at $15?\\n'\n",
      "             \"seller: Sure, let's meet at $15 for this high-quality balloon.\\n\"\n",
      "             'question: have the seller and the buyer achieved a deal? Yes or '\n",
      "             'No\\n'\n",
      "             'answer: Yes. Because the buyer asked to meet in the middle at '\n",
      "             '$15 and the seller confirmed.\\n'\n",
      "             '\\n'\n",
      "             \"buyer: That's still a bit high, can you go any lower?\\n\"\n",
      "             'seller: Alright, I can sell it to you for $15.\\n'\n",
      "             'question: have the seller and the buyer achieved a deal? Yes or '\n",
      "             'No\\n'\n",
      "             'answer: No. Because the buyer did not confirm. \\n'\n",
      "             '\\n'\n",
      "             'seller: Sorry this is the highest price I can offer. \\n'\n",
      "             \"buyer: OK. I'll take the balloon.\\n\"\n",
      "             'question: have the seller and the buyer achieved a deal? Yes or '\n",
      "             'No\\n'\n",
      "             'answer: Yes. Because the buyer said \"I\\'ll take the balloon\"\\n'\n",
      "             '\\n'\n",
      "             'seller: I understand your request but can only sell it for this '\n",
      "             'price.\\n'\n",
      "             'buyer: Thank you, but I think I cannot take the offer. Maybe '\n",
      "             'next time. \\n'\n",
      "             'question: have the seller and the buyer achieved a deal? Yes or '\n",
      "             'No\\n'\n",
      "             'answer: No. Because the buyer said they cannot take the offer. \\n'\n",
      "             '\\n'\n",
      "             \"seller: I'm sorry, I cannot lower the price any further, would \"\n",
      "             'you like to make an offer?\\n'\n",
      "             'buyer: How about $15?\\n'\n",
      "             'question: have the seller and the buyer achieved a deal? Yes or '\n",
      "             'No\\n'\n",
      "             'answer: No. Because they are still bargaining.\\n'\n",
      "             '\\n'\n",
      "             'seller: Well, how much are you willing to pay for it?\\n'\n",
      "             'buyer: I can only afford to pay $15.\\n'\n",
      "             'question: have the seller and the buyer achieved a deal? Yes or '\n",
      "             'No\\n'\n",
      "             'answer: No. Because the seller did not confirm.\\n'\n",
      "             '\\n'\n",
      "             'seller: Based on your request for a lower price, may I know what '\n",
      "             'features of the balloon attract you the most? It might help me '\n",
      "             'to understand how I can add more value to the balloon for you.\\n'\n",
      "             'buyer: I appreciate your offer, but $10 is too low. How about '\n",
      "             '$15?\\n'\n",
      "             'question: have the seller and the buyer achieved a deal? Yes or '\n",
      "             'No\\n'\n",
      "             'answer: No. Because the seller did not confirm.\\n'\n",
      "             '\\n'\n",
      "             'seller: I appreciate your interest in the balloon, but I '\n",
      "             \"couldn't go below $16.\\n\"\n",
      "             \"buyer: I understand. Since it's still a bit higher than my \"\n",
      "             'budget, would you consider throwing in the complimentary gift '\n",
      "             'you mentioned earlier?\\n'\n",
      "             'question: have the seller and the buyer achieved a deal? Yes or '\n",
      "             'No\\n'\n",
      "             'answer: No. Because the buyer did not confirm.\\n'\n",
      "             '\\n'\n",
      "             'buyer: I understand, but is there any additional item or service '\n",
      "             'that you could include with the balloon at the current price to '\n",
      "             'make it more valuable for me?\\n'\n",
      "             'seller: I can include a ribbon and a personalized message tag at '\n",
      "             '$15.\\n'\n",
      "             'question: have the seller and the buyer achieved a deal? Yes or '\n",
      "             'No\\n'\n",
      "             'answer: No. Because the buyer did not confirm.\\n'\n",
      "             '\\n'\n",
      "             'seller: That sounds good. Sold for $17!\\n'\n",
      "             'buyer: Great! Thank you, I appreciate it.\\n'\n",
      "             'question: have the seller and the buyer achieved a deal? Yes or '\n",
      "             'No\\n'\n",
      "             'answer: Yes. Because both parts have confirmed.\\n'\n",
      "             '\\n'\n",
      "             'buyer: Thank you for your offer, but I was hoping to spend a '\n",
      "             'little bit less. How about I purchase two balloons and you give '\n",
      "             'me a discount?\\n'\n",
      "             'seller: Certainly, I can offer you a 10% discount if you '\n",
      "             'purchase two balloons. That would bring the price of two '\n",
      "             'balloons down to $36.\\n'\n",
      "             'question: have the seller and the buyer achieved a deal? Yes or '\n",
      "             'No\\n'\n",
      "             'answer: No. Because the buyer did not confirm.\\n'\n",
      "             '\\n'\n",
      "             'buyer: I see. Would you consider selling it for $18 with free '\n",
      "             'delivery?\\n'\n",
      "             'seller: As this is a limited edition balloon, I can go as low as '\n",
      "             '$19 with free delivery.\\n'\n",
      "             'question: have the seller and the buyer achieved a deal? Yes or '\n",
      "             'No\\n'\n",
      "             'answer: No. Because the buyer did not confirm.\\n'\n",
      "             '\\n'\n",
      "             'buyer: I understand. Is there any way you could lower the price '\n",
      "             'a bit more? I really like the balloon, but my budget is tight.\\n'\n",
      "             'seller: I can offer you a discount of $2, so you can purchase it '\n",
      "             'for $16.\\n'\n",
      "             'question: have the seller and the buyer achieved a deal? Yes or '\n",
      "             'No\\n'\n",
      "             'answer: No. Because the buyer did not confirm.\\n'\n",
      "             '\\n'\n",
      "             'buyer: Thank you for the offer, but I only need one balloon. '\n",
      "             'Could you perhaps sell me this balloon for $15?\\n'\n",
      "             'seller: I can meet you halfway and offer you this balloon for '\n",
      "             '$17.50.\\n'\n",
      "             'question: have the seller and the buyer achieved a deal? Yes or '\n",
      "             'No\\n'\n",
      "             'answer: No. Because the buyer have not agreed yet.\\n'\n",
      "             '\\n'\n",
      "             \"buyer: Thank you for letting me know. Based on the balloon's \"\n",
      "             'condition, would you be willing to sell it for $13?\\n'\n",
      "             'seller: I can compromise with you and leave it for $14.\\n'\n",
      "             'question: have the seller and the buyer achieved a deal? Yes or '\n",
      "             'No\\n'\n",
      "             'answer: No. Because the buyer have not agreed yet.\\n'\n",
      "             '\\n'\n",
      "             'buyer: That sounds great. Based on the quality and durability of '\n",
      "             'the balloon, would you be willing to lower the price to $12.50?\\n'\n",
      "             'seller: Alright, I can sell it to you for $12.50.\\n'\n",
      "             'question: have the seller and the buyer achieved a deal? Yes or '\n",
      "             'No\\n'\n",
      "             'answer: No. Because the buyer did not confirm.\\n'\n",
      "             '\\n'\n",
      "             'buyer: Thank you for your offer. Can you further lower the '\n",
      "             'price?\\n'\n",
      "             'seller: I can go down to $17.\\n'\n",
      "             'question: have the seller and the buyer achieved a deal? Yes or '\n",
      "             'No\\n'\n",
      "             'answer: No. Because the buyer have not agreed yet.\\n'\n",
      "             '\\n'\n",
      "             'buyer: I understand, thank you for letting me know. If I may '\n",
      "             'ask, is there anything we can negotiate on besides the price?\\n'\n",
      "             'seller: Unfortunately, the price is non-negotiable, but I can '\n",
      "             'give you some extra balloons, free of charge as a token of my '\n",
      "             'appreciation for your interest.\\n'\n",
      "             'question: have the seller and the buyer achieved a deal? Yes or '\n",
      "             'No\\n'\n",
      "             'answer: No. Because the buyer have not agreed yet.\\n'\n",
      "             '\\n'\n",
      "             'buyer: I see, I appreciate your honesty. Is there any chance you '\n",
      "             'could include a free balloon pump with the purchase?\\n'\n",
      "             'seller: I can include a free balloon pump with the purchase if '\n",
      "             'you agree to buy the balloon for $15.\\n'\n",
      "             'question: have the seller and the buyer achieved a deal? Yes or '\n",
      "             'No\\n'\n",
      "             'answer: No. Because the buyer have not agreed yet.\\n'\n",
      "             '\\n'\n",
      "             \"buyer: I understand. Can we negotiate on the price? What's the \"\n",
      "             'lowest price you can offer?\\n'\n",
      "             'seller: The lowest I can go is $15 for this balloon.\\n'\n",
      "             'question: have the seller and the buyer achieved a deal? Yes or '\n",
      "             'No\\n'\n",
      "             'answer: No. Because the buyer have not agreed yet.\\n'\n",
      "             '\\n'\n",
      "             \"buyer: I appreciate your offer, but I'm afraid it's still a bit \"\n",
      "             'too high for me. Would you consider maybe throwing in a pack of '\n",
      "             'balloons or something to sweeten the deal if I were to purchase '\n",
      "             'this balloon from you?\\n'\n",
      "             'seller: I can throw in a pack of small balloons if you buy the '\n",
      "             'balloon for $16.\\n'\n",
      "             'question: have the seller and the buyer achieved a deal? Yes or '\n",
      "             'No\\n'\n",
      "             'answer: No. Because the buyer have not agreed yet.\\n'\n",
      "             '\\n'\n",
      "             'seller: I appreciate your offer but I cannot go that low, My '\n",
      "             'final offer is $16.\\n'\n",
      "             'buyer: I understand. Can I get any extra balloons with the '\n",
      "             'current one if I agree to your final offer of $16?\\n'\n",
      "             'question: have the seller and the buyer achieved a deal? Yes or '\n",
      "             'No\\n'\n",
      "             'answer: No. Because the seller have not agreed yet. \\n'\n",
      "             '\\n'\n",
      "             'buyer: That sounds like a good deal. So if I pay in cash, that '\n",
      "             'would bring the price down to $18?\\n'\n",
      "             'seller: Actually, if you pay in cash I could lower the price to '\n",
      "             '$13.50.\\n'\n",
      "             'question: have the seller and the buyer achieved a deal? Yes or '\n",
      "             'No\\n'\n",
      "             'answer: No. Because the buyer have not agreed yet.\\n'\n",
      "             '\\n'\n",
      "             'buyer: Thank you for your kind offer. Do you think you could '\n",
      "             'lower the price a bit more?\\n'\n",
      "             'seller: I can do $15 for you as the final price.\\n'\n",
      "             'question: have the seller and the buyer achieved a deal? Yes or '\n",
      "             'No\\n'\n",
      "             'answer: No. Because the buyer have not confirmed yet.\\n'\n",
      "             '\\n'\n",
      "             'buyer: I understand, but I was wondering if there are any '\n",
      "             'features of the balloon that I could get for a slightly lower '\n",
      "             'price?\\n'\n",
      "             'seller: I can give you a free ribbon to go with it for $15.\\n'\n",
      "             'question: have the seller and the buyer achieved a deal? Yes or '\n",
      "             'No\\n'\n",
      "             'answer: No. Because the buyer have not agreed yet.\\n'\n",
      "             '\\n'\n",
      "             'buyer: Alright, I understand. Would you be willing to sell the '\n",
      "             'balloon for $13?\\n'\n",
      "             \"seller: I can make it $14, that's the lowest I'm willing to go.\\n\"\n",
      "             'question: have the seller and the buyer achieved a deal? Yes or '\n",
      "             'No\\n'\n",
      "             'answer: No. Because they are still negotiating.\\n'\n",
      "             '\\n'\n",
      "             'buyer: Thank you for the offer, but I was hoping to pay even '\n",
      "             'less than that. How about $16?\\n'\n",
      "             'seller: I appreciate your offer, but $16 is still lower than '\n",
      "             'what I can go for. The final price I can offer you is $17.\\n'\n",
      "             'question: have the seller and the buyer achieved a deal? Yes or '\n",
      "             'No\\n'\n",
      "             'answer: No. Because the buyer have not agreed yet.\\n'\n",
      "             '\\n'\n",
      "             'buyer: I understand. Can you do any better on the price?\\n'\n",
      "             \"seller: How about $17? That's a really good price for this \"\n",
      "             'beautiful balloon.\\n'\n",
      "             'question: have the seller and the buyer achieved a deal? Yes or '\n",
      "             'No\\n'\n",
      "             'answer: no. Because the buyer have not agreed yet. \\n'\n",
      "             '\\n'\n",
      "             'buyer: I understand that, and I would love to have it. Is there '\n",
      "             'any room for flexibility on the price?\\n'\n",
      "             'seller: I can lower the price to $15, but that is the best I can '\n",
      "             'do.\\n'\n",
      "             'question: have the seller and the buyer achieved a deal? Yes or '\n",
      "             'No\\n'\n",
      "             'answer: no. Because the buyer have not agreed yet. \\n'\n",
      "             '\\n'\n",
      "             'buyer: Thank you for letting me know. How about a compromise at '\n",
      "             '$13?\\n'\n",
      "             \"seller: I'm sorry, I cannot go that low. The final price will be \"\n",
      "             '$15.\\n'\n",
      "             'question: have the seller and the buyer achieved a deal? Yes or '\n",
      "             'No\\n'\n",
      "             'answer: no. Because the buyer have not agreed yet. \\n'\n",
      "             '\\n'\n",
      "             'buyer: Excuse me, would you consider lowering the price a bit?\\n'\n",
      "             'seller: Sure, I can sell it to you for $15.\\n'\n",
      "             'question: have the seller and the buyer achieved a deal? Yes or '\n",
      "             'No\\n'\n",
      "             'answer: no. Because the buyer have not agreed yet. \\n'\n",
      "             '\\n'\n",
      "             'buyer: Hmm, I was hoping for a lower price. Would you be willing '\n",
      "             'to go any lower than $18?\\n'\n",
      "             \"seller: Best I can do is $15. It's a great balloon, you won't \"\n",
      "             'regret it.\\n'\n",
      "             'question: have the seller and the buyer achieved a deal? Yes or '\n",
      "             'No\\n'\n",
      "             'answer: no. Because the buyer have not agreed yet.\\n'\n",
      "             '\\n'\n",
      "             'buyer: Thank you for your offer, but $18 is still above my '\n",
      "             'budget. Could you please go any lower?\\n'\n",
      "             'seller: Alright, my final offer is $15. Would you like to buy it '\n",
      "             'for $15?\\n'\n",
      "             'question: have the seller and the buyer achieved a deal? Yes or '\n",
      "             'No\\n'\n",
      "             'answer: no. Because the buyer have not agreed yet.',\n",
      "  'role': 'user'}]\n"
     ]
    }
   ],
   "source": [
    "moderator_initial_dialog_history = load_initial_instructions(\n",
    "    \"../lib_prompt/moderator_buyer.txt\"\n",
    ")\n",
    "moderator = ModeratorAgent(\n",
    "    initial_dialog_history=moderator_initial_dialog_history,\n",
    "    agent_type=\"moderator\",\n",
    "    engine=\"gpt-3.5-turbo\",\n",
    ")\n",
    "pprint(moderator.dialog_history)"
   ]
  },
  {
   "cell_type": "code",
   "execution_count": 10,
   "id": "c1ff4bb4-a37c-486d-ba2c-11baf4cc7e6a",
   "metadata": {},
   "outputs": [],
   "source": [
    "def run(buyer, seller, moderator, n=5, fd=None, verbose=True):\n",
    "    wprint(\"seller: %s\" % seller.last_response, fd, verbose=verbose)\n",
    "    wprint(\"buyer: %s\" % buyer.last_response, fd, verbose=verbose)\n",
    "\n",
    "    wprint(\"---- start bargaining ----\", fd, verbose=verbose)\n",
    "    buyer_run = buyer.last_response\n",
    "    start_involve_moderator = False\n",
    "    deal_at = \"none\"\n",
    "    for _ in range(n):\n",
    "        seller_run = seller.call(buyer_run)\n",
    "        wprint(\"seller: %s\" % seller.last_response, fd, verbose=verbose)\n",
    "\n",
    "        if start_involve_moderator is False and involve_moderator(\n",
    "            buyer_run, seller_run\n",
    "        ):\n",
    "            start_involve_moderator = True\n",
    "            wprint(\"---- start moderating ----\", fd, verbose=verbose)\n",
    "\n",
    "        if start_involve_moderator:\n",
    "            moderate = moderator.moderate(seller.dialog_history, who_was_last=\"seller\")\n",
    "            wprint(\n",
    "                \"MODERATE have the seller and the buyer achieved a deal? Yes or No: %s\"\n",
    "                % moderate,\n",
    "                fd,\n",
    "                verbose=verbose,\n",
    "            )\n",
    "            if \"yes\" in moderate.lower():\n",
    "                deal_at = \"seller\"\n",
    "                break\n",
    "            else:\n",
    "                pass\n",
    "\n",
    "        buyer_run = buyer.call(seller_run)\n",
    "        wprint(\"buyer: %s\" % buyer.last_response, fd, verbose=verbose)\n",
    "\n",
    "        if start_involve_moderator is False and involve_moderator(\n",
    "            buyer_run, seller_run\n",
    "        ):\n",
    "            start_involve_moderator = True\n",
    "            wprint(\"---- start moderating ----\", fd, verbose=verbose)\n",
    "\n",
    "        if start_involve_moderator:\n",
    "            moderate = moderator.moderate(\n",
    "                buyer.dialog_history,\n",
    "                who_was_last=\"buyer\",\n",
    "            )\n",
    "            wprint(\n",
    "                \"MODERATE have the seller and the buyer achieved a deal? Yes or No: %s\"\n",
    "                % moderate,\n",
    "                fd,\n",
    "                verbose=verbose,\n",
    "            )\n",
    "            if \"yes\" in moderate.lower():\n",
    "                deal_at = \"buyer\"\n",
    "                break\n",
    "            else:\n",
    "                pass\n",
    "\n",
    "    if deal_at != \"none\":\n",
    "        if deal_at == \"seller\":\n",
    "            final_price = parse_final_price(seller.dialog_history)\n",
    "        else:\n",
    "            final_price = parse_final_price(buyer.dialog_history)\n",
    "        return final_price\n",
    "    else:\n",
    "        return -1"
   ]
  },
  {
   "cell_type": "code",
   "execution_count": 12,
   "id": "533cbb20-027a-4931-9d22-1a1f419ae2b9",
   "metadata": {},
   "outputs": [
    {
     "name": "stdout",
     "output_type": "stream",
     "text": [
      "seller: Hi, this is a good balloon and its price is $20\n",
      "buyer: Would you consider selling it for $10?\n",
      "---- start bargaining ----\n"
     ]
    },
    {
     "ename": "RetryError",
     "evalue": "RetryError[<Future at 0x7f3ae4efb730 state=finished raised AuthenticationError>]",
     "output_type": "error",
     "traceback": [
      "\u001b[0;31m---------------------------------------------------------------------------\u001b[0m",
      "\u001b[0;31mAuthenticationError\u001b[0m                       Traceback (most recent call last)",
      "File \u001b[0;32m~/.local/lib/python3.10/site-packages/tenacity/__init__.py:382\u001b[0m, in \u001b[0;36mRetrying.__call__\u001b[0;34m(self, fn, *args, **kwargs)\u001b[0m\n\u001b[1;32m    381\u001b[0m \u001b[38;5;28;01mtry\u001b[39;00m:\n\u001b[0;32m--> 382\u001b[0m     result \u001b[38;5;241m=\u001b[39m \u001b[43mfn\u001b[49m\u001b[43m(\u001b[49m\u001b[38;5;241;43m*\u001b[39;49m\u001b[43margs\u001b[49m\u001b[43m,\u001b[49m\u001b[43m \u001b[49m\u001b[38;5;241;43m*\u001b[39;49m\u001b[38;5;241;43m*\u001b[39;49m\u001b[43mkwargs\u001b[49m\u001b[43m)\u001b[49m\n\u001b[1;32m    383\u001b[0m \u001b[38;5;28;01mexcept\u001b[39;00m \u001b[38;5;167;01mBaseException\u001b[39;00m:  \u001b[38;5;66;03m# noqa: B902\u001b[39;00m\n",
      "File \u001b[0;32m~/programming/GPT-Bargaining/notebooks/../lib_api.py:26\u001b[0m, in \u001b[0;36mcompletion_with_backoff\u001b[0;34m(**kwargs)\u001b[0m\n\u001b[1;32m     25\u001b[0m \u001b[38;5;124;03m\"\"\"OpenAI API wrapper, if network error then retry 3 times\"\"\"\u001b[39;00m\n\u001b[0;32m---> 26\u001b[0m \u001b[38;5;28;01mreturn\u001b[39;00m \u001b[43mopenai\u001b[49m\u001b[38;5;241;43m.\u001b[39;49m\u001b[43mChatCompletion\u001b[49m\u001b[38;5;241;43m.\u001b[39;49m\u001b[43mcreate\u001b[49m\u001b[43m(\u001b[49m\u001b[38;5;241;43m*\u001b[39;49m\u001b[38;5;241;43m*\u001b[39;49m\u001b[43mkwargs\u001b[49m\u001b[43m)\u001b[49m\n",
      "File \u001b[0;32m~/.local/lib/python3.10/site-packages/openai/api_resources/chat_completion.py:25\u001b[0m, in \u001b[0;36mChatCompletion.create\u001b[0;34m(cls, *args, **kwargs)\u001b[0m\n\u001b[1;32m     24\u001b[0m \u001b[38;5;28;01mtry\u001b[39;00m:\n\u001b[0;32m---> 25\u001b[0m     \u001b[38;5;28;01mreturn\u001b[39;00m \u001b[38;5;28;43msuper\u001b[39;49m\u001b[43m(\u001b[49m\u001b[43m)\u001b[49m\u001b[38;5;241;43m.\u001b[39;49m\u001b[43mcreate\u001b[49m\u001b[43m(\u001b[49m\u001b[38;5;241;43m*\u001b[39;49m\u001b[43margs\u001b[49m\u001b[43m,\u001b[49m\u001b[43m \u001b[49m\u001b[38;5;241;43m*\u001b[39;49m\u001b[38;5;241;43m*\u001b[39;49m\u001b[43mkwargs\u001b[49m\u001b[43m)\u001b[49m\n\u001b[1;32m     26\u001b[0m \u001b[38;5;28;01mexcept\u001b[39;00m TryAgain \u001b[38;5;28;01mas\u001b[39;00m e:\n",
      "File \u001b[0;32m~/.local/lib/python3.10/site-packages/openai/api_resources/abstract/engine_api_resource.py:153\u001b[0m, in \u001b[0;36mEngineAPIResource.create\u001b[0;34m(cls, api_key, api_base, api_type, request_id, api_version, organization, **params)\u001b[0m\n\u001b[1;32m    138\u001b[0m (\n\u001b[1;32m    139\u001b[0m     deployment_id,\n\u001b[1;32m    140\u001b[0m     engine,\n\u001b[0;32m   (...)\u001b[0m\n\u001b[1;32m    150\u001b[0m     api_key, api_base, api_type, api_version, organization, \u001b[38;5;241m*\u001b[39m\u001b[38;5;241m*\u001b[39mparams\n\u001b[1;32m    151\u001b[0m )\n\u001b[0;32m--> 153\u001b[0m response, _, api_key \u001b[38;5;241m=\u001b[39m \u001b[43mrequestor\u001b[49m\u001b[38;5;241;43m.\u001b[39;49m\u001b[43mrequest\u001b[49m\u001b[43m(\u001b[49m\n\u001b[1;32m    154\u001b[0m \u001b[43m    \u001b[49m\u001b[38;5;124;43m\"\u001b[39;49m\u001b[38;5;124;43mpost\u001b[39;49m\u001b[38;5;124;43m\"\u001b[39;49m\u001b[43m,\u001b[49m\n\u001b[1;32m    155\u001b[0m \u001b[43m    \u001b[49m\u001b[43murl\u001b[49m\u001b[43m,\u001b[49m\n\u001b[1;32m    156\u001b[0m \u001b[43m    \u001b[49m\u001b[43mparams\u001b[49m\u001b[38;5;241;43m=\u001b[39;49m\u001b[43mparams\u001b[49m\u001b[43m,\u001b[49m\n\u001b[1;32m    157\u001b[0m \u001b[43m    \u001b[49m\u001b[43mheaders\u001b[49m\u001b[38;5;241;43m=\u001b[39;49m\u001b[43mheaders\u001b[49m\u001b[43m,\u001b[49m\n\u001b[1;32m    158\u001b[0m \u001b[43m    \u001b[49m\u001b[43mstream\u001b[49m\u001b[38;5;241;43m=\u001b[39;49m\u001b[43mstream\u001b[49m\u001b[43m,\u001b[49m\n\u001b[1;32m    159\u001b[0m \u001b[43m    \u001b[49m\u001b[43mrequest_id\u001b[49m\u001b[38;5;241;43m=\u001b[39;49m\u001b[43mrequest_id\u001b[49m\u001b[43m,\u001b[49m\n\u001b[1;32m    160\u001b[0m \u001b[43m    \u001b[49m\u001b[43mrequest_timeout\u001b[49m\u001b[38;5;241;43m=\u001b[39;49m\u001b[43mrequest_timeout\u001b[49m\u001b[43m,\u001b[49m\n\u001b[1;32m    161\u001b[0m \u001b[43m\u001b[49m\u001b[43m)\u001b[49m\n\u001b[1;32m    163\u001b[0m \u001b[38;5;28;01mif\u001b[39;00m stream:\n\u001b[1;32m    164\u001b[0m     \u001b[38;5;66;03m# must be an iterator\u001b[39;00m\n",
      "File \u001b[0;32m~/.local/lib/python3.10/site-packages/openai/api_requestor.py:298\u001b[0m, in \u001b[0;36mAPIRequestor.request\u001b[0;34m(self, method, url, params, headers, files, stream, request_id, request_timeout)\u001b[0m\n\u001b[1;32m    288\u001b[0m result \u001b[38;5;241m=\u001b[39m \u001b[38;5;28mself\u001b[39m\u001b[38;5;241m.\u001b[39mrequest_raw(\n\u001b[1;32m    289\u001b[0m     method\u001b[38;5;241m.\u001b[39mlower(),\n\u001b[1;32m    290\u001b[0m     url,\n\u001b[0;32m   (...)\u001b[0m\n\u001b[1;32m    296\u001b[0m     request_timeout\u001b[38;5;241m=\u001b[39mrequest_timeout,\n\u001b[1;32m    297\u001b[0m )\n\u001b[0;32m--> 298\u001b[0m resp, got_stream \u001b[38;5;241m=\u001b[39m \u001b[38;5;28;43mself\u001b[39;49m\u001b[38;5;241;43m.\u001b[39;49m\u001b[43m_interpret_response\u001b[49m\u001b[43m(\u001b[49m\u001b[43mresult\u001b[49m\u001b[43m,\u001b[49m\u001b[43m \u001b[49m\u001b[43mstream\u001b[49m\u001b[43m)\u001b[49m\n\u001b[1;32m    299\u001b[0m \u001b[38;5;28;01mreturn\u001b[39;00m resp, got_stream, \u001b[38;5;28mself\u001b[39m\u001b[38;5;241m.\u001b[39mapi_key\n",
      "File \u001b[0;32m~/.local/lib/python3.10/site-packages/openai/api_requestor.py:700\u001b[0m, in \u001b[0;36mAPIRequestor._interpret_response\u001b[0;34m(self, result, stream)\u001b[0m\n\u001b[1;32m    698\u001b[0m \u001b[38;5;28;01melse\u001b[39;00m:\n\u001b[1;32m    699\u001b[0m     \u001b[38;5;28;01mreturn\u001b[39;00m (\n\u001b[0;32m--> 700\u001b[0m         \u001b[38;5;28;43mself\u001b[39;49m\u001b[38;5;241;43m.\u001b[39;49m\u001b[43m_interpret_response_line\u001b[49m\u001b[43m(\u001b[49m\n\u001b[1;32m    701\u001b[0m \u001b[43m            \u001b[49m\u001b[43mresult\u001b[49m\u001b[38;5;241;43m.\u001b[39;49m\u001b[43mcontent\u001b[49m\u001b[38;5;241;43m.\u001b[39;49m\u001b[43mdecode\u001b[49m\u001b[43m(\u001b[49m\u001b[38;5;124;43m\"\u001b[39;49m\u001b[38;5;124;43mutf-8\u001b[39;49m\u001b[38;5;124;43m\"\u001b[39;49m\u001b[43m)\u001b[49m\u001b[43m,\u001b[49m\n\u001b[1;32m    702\u001b[0m \u001b[43m            \u001b[49m\u001b[43mresult\u001b[49m\u001b[38;5;241;43m.\u001b[39;49m\u001b[43mstatus_code\u001b[49m\u001b[43m,\u001b[49m\n\u001b[1;32m    703\u001b[0m \u001b[43m            \u001b[49m\u001b[43mresult\u001b[49m\u001b[38;5;241;43m.\u001b[39;49m\u001b[43mheaders\u001b[49m\u001b[43m,\u001b[49m\n\u001b[1;32m    704\u001b[0m \u001b[43m            \u001b[49m\u001b[43mstream\u001b[49m\u001b[38;5;241;43m=\u001b[39;49m\u001b[38;5;28;43;01mFalse\u001b[39;49;00m\u001b[43m,\u001b[49m\n\u001b[1;32m    705\u001b[0m \u001b[43m        \u001b[49m\u001b[43m)\u001b[49m,\n\u001b[1;32m    706\u001b[0m         \u001b[38;5;28;01mFalse\u001b[39;00m,\n\u001b[1;32m    707\u001b[0m     )\n",
      "File \u001b[0;32m~/.local/lib/python3.10/site-packages/openai/api_requestor.py:765\u001b[0m, in \u001b[0;36mAPIRequestor._interpret_response_line\u001b[0;34m(self, rbody, rcode, rheaders, stream)\u001b[0m\n\u001b[1;32m    764\u001b[0m \u001b[38;5;28;01mif\u001b[39;00m stream_error \u001b[38;5;129;01mor\u001b[39;00m \u001b[38;5;129;01mnot\u001b[39;00m \u001b[38;5;241m200\u001b[39m \u001b[38;5;241m<\u001b[39m\u001b[38;5;241m=\u001b[39m rcode \u001b[38;5;241m<\u001b[39m \u001b[38;5;241m300\u001b[39m:\n\u001b[0;32m--> 765\u001b[0m     \u001b[38;5;28;01mraise\u001b[39;00m \u001b[38;5;28mself\u001b[39m\u001b[38;5;241m.\u001b[39mhandle_error_response(\n\u001b[1;32m    766\u001b[0m         rbody, rcode, resp\u001b[38;5;241m.\u001b[39mdata, rheaders, stream_error\u001b[38;5;241m=\u001b[39mstream_error\n\u001b[1;32m    767\u001b[0m     )\n\u001b[1;32m    768\u001b[0m \u001b[38;5;28;01mreturn\u001b[39;00m resp\n",
      "\u001b[0;31mAuthenticationError\u001b[0m: Incorrect API key provided: sk-09x95***************************************xSY8. You can find your API key at https://platform.openai.com/account/api-keys.",
      "\nThe above exception was the direct cause of the following exception:\n",
      "\u001b[0;31mRetryError\u001b[0m                                Traceback (most recent call last)",
      "Cell \u001b[0;32mIn[12], line 4\u001b[0m\n\u001b[1;32m      2\u001b[0m seller\u001b[38;5;241m.\u001b[39mreset()\n\u001b[1;32m      3\u001b[0m moderator\u001b[38;5;241m.\u001b[39mreset()\n\u001b[0;32m----> 4\u001b[0m final_price \u001b[38;5;241m=\u001b[39m \u001b[43mrun\u001b[49m\u001b[43m(\u001b[49m\u001b[43mbuyer\u001b[49m\u001b[43m,\u001b[49m\u001b[43m \u001b[49m\u001b[43mseller\u001b[49m\u001b[43m,\u001b[49m\u001b[43m \u001b[49m\u001b[43mmoderator\u001b[49m\u001b[43m,\u001b[49m\u001b[43m \u001b[49m\u001b[43mn\u001b[49m\u001b[38;5;241;43m=\u001b[39;49m\u001b[38;5;241;43m5\u001b[39;49m\u001b[43m)\u001b[49m\n\u001b[1;32m      5\u001b[0m \u001b[38;5;28mprint\u001b[39m(\u001b[38;5;124m\"\u001b[39m\u001b[38;5;124mFINAL PRICE: \u001b[39m\u001b[38;5;132;01m%s\u001b[39;00m\u001b[38;5;124m\"\u001b[39m \u001b[38;5;241m%\u001b[39m final_price)\n",
      "Cell \u001b[0;32mIn[10], line 10\u001b[0m, in \u001b[0;36mrun\u001b[0;34m(buyer, seller, moderator, n, fd, verbose)\u001b[0m\n\u001b[1;32m      8\u001b[0m deal_at \u001b[38;5;241m=\u001b[39m \u001b[38;5;124m\"\u001b[39m\u001b[38;5;124mnone\u001b[39m\u001b[38;5;124m\"\u001b[39m\n\u001b[1;32m      9\u001b[0m \u001b[38;5;28;01mfor\u001b[39;00m _ \u001b[38;5;129;01min\u001b[39;00m \u001b[38;5;28mrange\u001b[39m(n):\n\u001b[0;32m---> 10\u001b[0m     seller_run \u001b[38;5;241m=\u001b[39m \u001b[43mseller\u001b[49m\u001b[38;5;241;43m.\u001b[39;49m\u001b[43mcall\u001b[49m\u001b[43m(\u001b[49m\u001b[43mbuyer_run\u001b[49m\u001b[43m)\u001b[49m\n\u001b[1;32m     11\u001b[0m     wprint(\u001b[38;5;124m\"\u001b[39m\u001b[38;5;124mseller: \u001b[39m\u001b[38;5;132;01m%s\u001b[39;00m\u001b[38;5;124m\"\u001b[39m \u001b[38;5;241m%\u001b[39m seller\u001b[38;5;241m.\u001b[39mlast_response, fd, verbose\u001b[38;5;241m=\u001b[39mverbose)\n\u001b[1;32m     13\u001b[0m     \u001b[38;5;28;01mif\u001b[39;00m start_involve_moderator \u001b[38;5;129;01mis\u001b[39;00m \u001b[38;5;28;01mFalse\u001b[39;00m \u001b[38;5;129;01mand\u001b[39;00m involve_moderator(\n\u001b[1;32m     14\u001b[0m         buyer_run, seller_run\n\u001b[1;32m     15\u001b[0m     ):\n",
      "File \u001b[0;32m~/programming/GPT-Bargaining/notebooks/../agent.py:190\u001b[0m, in \u001b[0;36mDialogAgent.call\u001b[0;34m(self, prompt)\u001b[0m\n\u001b[1;32m    187\u001b[0m messages \u001b[38;5;241m=\u001b[39m \u001b[38;5;28mlist\u001b[39m(\u001b[38;5;28mself\u001b[39m\u001b[38;5;241m.\u001b[39mdialog_history)\n\u001b[1;32m    188\u001b[0m \u001b[38;5;66;03m# messages.append(prompt)\u001b[39;00m\n\u001b[0;32m--> 190\u001b[0m message \u001b[38;5;241m=\u001b[39m \u001b[38;5;28;43mself\u001b[39;49m\u001b[38;5;241;43m.\u001b[39;49m\u001b[43mcall_engine\u001b[49m\u001b[43m(\u001b[49m\u001b[43mmessages\u001b[49m\u001b[43m)\u001b[49m\n\u001b[1;32m    192\u001b[0m \u001b[38;5;28mself\u001b[39m\u001b[38;5;241m.\u001b[39mdialog_history\u001b[38;5;241m.\u001b[39mappend(\u001b[38;5;28mdict\u001b[39m(message))\n\u001b[1;32m    194\u001b[0m \u001b[38;5;66;03m# self.dialog_round += 1\u001b[39;00m\n\u001b[1;32m    195\u001b[0m \u001b[38;5;66;03m# self.history_len = response['usage']['total_tokens']\u001b[39;00m\n",
      "File \u001b[0;32m~/programming/GPT-Bargaining/notebooks/../agent.py:126\u001b[0m, in \u001b[0;36mDialogAgent.call_engine\u001b[0;34m(self, messages)\u001b[0m\n\u001b[1;32m    121\u001b[0m \u001b[38;5;66;03m# if(\"azure\" in self.engine):\u001b[39;00m\n\u001b[1;32m    122\u001b[0m \u001b[38;5;66;03m#     response = azure_completion_with_backoff(messages=messages)\u001b[39;00m\n\u001b[1;32m    123\u001b[0m \u001b[38;5;66;03m#     message = response['choices'][0]['message']\u001b[39;00m\n\u001b[1;32m    124\u001b[0m \u001b[38;5;28;01mif\u001b[39;00m(\u001b[38;5;124m\"\u001b[39m\u001b[38;5;124mgpt\u001b[39m\u001b[38;5;124m\"\u001b[39m \u001b[38;5;129;01min\u001b[39;00m \u001b[38;5;28mself\u001b[39m\u001b[38;5;241m.\u001b[39mengine):\n\u001b[1;32m    125\u001b[0m     \u001b[38;5;66;03m# import ipdb; ipdb.set_trace()\u001b[39;00m\n\u001b[0;32m--> 126\u001b[0m     response \u001b[38;5;241m=\u001b[39m \u001b[43mcompletion_with_backoff\u001b[49m\u001b[43m(\u001b[49m\n\u001b[1;32m    127\u001b[0m \u001b[43m                  \u001b[49m\u001b[43mmodel\u001b[49m\u001b[38;5;241;43m=\u001b[39;49m\u001b[38;5;28;43mself\u001b[39;49m\u001b[38;5;241;43m.\u001b[39;49m\u001b[43mengine\u001b[49m\u001b[43m,\u001b[49m\n\u001b[1;32m    128\u001b[0m \u001b[43m                  \u001b[49m\u001b[43mmessages\u001b[49m\u001b[38;5;241;43m=\u001b[39;49m\u001b[43mmessages\u001b[49m\n\u001b[1;32m    129\u001b[0m \u001b[43m                \u001b[49m\u001b[43m)\u001b[49m\n\u001b[1;32m    130\u001b[0m     message \u001b[38;5;241m=\u001b[39m response[\u001b[38;5;124m'\u001b[39m\u001b[38;5;124mchoices\u001b[39m\u001b[38;5;124m'\u001b[39m][\u001b[38;5;241m0\u001b[39m][\u001b[38;5;124m'\u001b[39m\u001b[38;5;124mmessage\u001b[39m\u001b[38;5;124m'\u001b[39m]\n\u001b[1;32m    131\u001b[0m     \u001b[38;5;28;01massert\u001b[39;00m(message[\u001b[38;5;124m'\u001b[39m\u001b[38;5;124mrole\u001b[39m\u001b[38;5;124m'\u001b[39m] \u001b[38;5;241m==\u001b[39m \u001b[38;5;124m'\u001b[39m\u001b[38;5;124massistant\u001b[39m\u001b[38;5;124m'\u001b[39m)\n",
      "File \u001b[0;32m~/.local/lib/python3.10/site-packages/tenacity/__init__.py:289\u001b[0m, in \u001b[0;36mBaseRetrying.wraps.<locals>.wrapped_f\u001b[0;34m(*args, **kw)\u001b[0m\n\u001b[1;32m    287\u001b[0m \u001b[38;5;129m@functools\u001b[39m\u001b[38;5;241m.\u001b[39mwraps(f)\n\u001b[1;32m    288\u001b[0m \u001b[38;5;28;01mdef\u001b[39;00m \u001b[38;5;21mwrapped_f\u001b[39m(\u001b[38;5;241m*\u001b[39margs: t\u001b[38;5;241m.\u001b[39mAny, \u001b[38;5;241m*\u001b[39m\u001b[38;5;241m*\u001b[39mkw: t\u001b[38;5;241m.\u001b[39mAny) \u001b[38;5;241m-\u001b[39m\u001b[38;5;241m>\u001b[39m t\u001b[38;5;241m.\u001b[39mAny:\n\u001b[0;32m--> 289\u001b[0m     \u001b[38;5;28;01mreturn\u001b[39;00m \u001b[38;5;28;43mself\u001b[39;49m\u001b[43m(\u001b[49m\u001b[43mf\u001b[49m\u001b[43m,\u001b[49m\u001b[43m \u001b[49m\u001b[38;5;241;43m*\u001b[39;49m\u001b[43margs\u001b[49m\u001b[43m,\u001b[49m\u001b[43m \u001b[49m\u001b[38;5;241;43m*\u001b[39;49m\u001b[38;5;241;43m*\u001b[39;49m\u001b[43mkw\u001b[49m\u001b[43m)\u001b[49m\n",
      "File \u001b[0;32m~/.local/lib/python3.10/site-packages/tenacity/__init__.py:379\u001b[0m, in \u001b[0;36mRetrying.__call__\u001b[0;34m(self, fn, *args, **kwargs)\u001b[0m\n\u001b[1;32m    377\u001b[0m retry_state \u001b[38;5;241m=\u001b[39m RetryCallState(retry_object\u001b[38;5;241m=\u001b[39m\u001b[38;5;28mself\u001b[39m, fn\u001b[38;5;241m=\u001b[39mfn, args\u001b[38;5;241m=\u001b[39margs, kwargs\u001b[38;5;241m=\u001b[39mkwargs)\n\u001b[1;32m    378\u001b[0m \u001b[38;5;28;01mwhile\u001b[39;00m \u001b[38;5;28;01mTrue\u001b[39;00m:\n\u001b[0;32m--> 379\u001b[0m     do \u001b[38;5;241m=\u001b[39m \u001b[38;5;28;43mself\u001b[39;49m\u001b[38;5;241;43m.\u001b[39;49m\u001b[43miter\u001b[49m\u001b[43m(\u001b[49m\u001b[43mretry_state\u001b[49m\u001b[38;5;241;43m=\u001b[39;49m\u001b[43mretry_state\u001b[49m\u001b[43m)\u001b[49m\n\u001b[1;32m    380\u001b[0m     \u001b[38;5;28;01mif\u001b[39;00m \u001b[38;5;28misinstance\u001b[39m(do, DoAttempt):\n\u001b[1;32m    381\u001b[0m         \u001b[38;5;28;01mtry\u001b[39;00m:\n",
      "File \u001b[0;32m~/.local/lib/python3.10/site-packages/tenacity/__init__.py:326\u001b[0m, in \u001b[0;36mBaseRetrying.iter\u001b[0;34m(self, retry_state)\u001b[0m\n\u001b[1;32m    324\u001b[0m     \u001b[38;5;28;01mif\u001b[39;00m \u001b[38;5;28mself\u001b[39m\u001b[38;5;241m.\u001b[39mreraise:\n\u001b[1;32m    325\u001b[0m         \u001b[38;5;28;01mraise\u001b[39;00m retry_exc\u001b[38;5;241m.\u001b[39mreraise()\n\u001b[0;32m--> 326\u001b[0m     \u001b[38;5;28;01mraise\u001b[39;00m retry_exc \u001b[38;5;28;01mfrom\u001b[39;00m \u001b[38;5;21;01mfut\u001b[39;00m\u001b[38;5;21;01m.\u001b[39;00m\u001b[38;5;21;01mexception\u001b[39;00m()\n\u001b[1;32m    328\u001b[0m \u001b[38;5;28;01mif\u001b[39;00m \u001b[38;5;28mself\u001b[39m\u001b[38;5;241m.\u001b[39mwait:\n\u001b[1;32m    329\u001b[0m     sleep \u001b[38;5;241m=\u001b[39m \u001b[38;5;28mself\u001b[39m\u001b[38;5;241m.\u001b[39mwait(retry_state)\n",
      "\u001b[0;31mRetryError\u001b[0m: RetryError[<Future at 0x7f3ae4efb730 state=finished raised AuthenticationError>]"
     ]
    }
   ],
   "source": [
    "buyer.reset()\n",
    "seller.reset()\n",
    "moderator.reset()\n",
    "final_price = run(buyer, seller, moderator, n=5)\n",
    "print(\"FINAL PRICE: %s\" % final_price)"
   ]
  },
  {
   "cell_type": "markdown",
   "id": "d4edd7c4-a7f0-4d66-a816-ca717b977f3e",
   "metadata": {},
   "source": [
    "# Initial Experiments, 100 runs, estimate final deal mean and variance\n"
   ]
  },
  {
   "cell_type": "code",
   "execution_count": 43,
   "id": "7ab19a9d-0168-4149-9e75-7d62f1785a77",
   "metadata": {
    "collapsed": true,
    "jupyter": {
     "outputs_hidden": true
    },
    "tags": []
   },
   "outputs": [
    {
     "name": "stdout",
     "output_type": "stream",
     "text": [
      "==== ROUND 0 ====\n",
      "seller: Hi, this is a good balloon and its price is $20\n",
      "buyer: Would you consider selling it for $10?\n",
      "---- start bargaining ----\n",
      "seller: How about we meet halfway at $15?\n",
      "buyer: Can you go any lower, maybe $12?\n",
      "seller: I can go as low as $13.\n",
      "buyer: Deal.\n",
      "---- start moderating ----\n",
      "MODERATE have the seller and the buyer achieved a deal? Yes or No: Yes. Because both parties have confirmed.\n",
      "FINAL PRICE: 13.0\n",
      "\n",
      "\n",
      "\n",
      "==== ROUND 1 ====\n",
      "seller: Hi, this is a good balloon and its price is $20\n",
      "buyer: Would you consider selling it for $10?\n",
      "---- start bargaining ----\n",
      "seller: How about we meet halfway at $15?\n",
      "buyer: Can we settle at $12?\n",
      "seller: I'll go down to $14, final offer.\n",
      "buyer: Deal, I'll take it for $14.\n",
      "seller: Great, thank you for your purchase!\n",
      "---- start moderating ----\n",
      "MODERATE have the seller and the buyer achieved a deal? Yes or No: Yes. Because the buyer confirmed the price.\n",
      "FINAL PRICE: 14.0\n",
      "\n",
      "\n",
      "\n",
      "==== ROUND 2 ====\n",
      "seller: Hi, this is a good balloon and its price is $20\n",
      "buyer: Would you consider selling it for $10?\n",
      "---- start bargaining ----\n",
      "seller: I can offer it to you for $16.\n",
      "buyer: How about $12?\n",
      "seller: Final offer, $15 and it's a deal.\n",
      "buyer: Deal.\n",
      "---- start moderating ----\n",
      "MODERATE have the seller and the buyer achieved a deal? Yes or No: Yes. Because both parties have confirmed and agreed on the price.\n",
      "FINAL PRICE: 15.0\n",
      "\n",
      "\n",
      "\n",
      "==== ROUND 3 ====\n",
      "seller: Hi, this is a good balloon and its price is $20\n",
      "buyer: Would you consider selling it for $10?\n",
      "---- start bargaining ----\n",
      "seller: I can sell it for $15, it's a great deal!\n",
      "buyer: How about $12, can we make a deal at that price?\n",
      "seller: I can't go lower than $14 for this high-quality balloon.\n",
      "buyer: Alright, I'll take it for $14.\n",
      "seller: Deal! Enjoy your balloon, thank you for your purchase!\n",
      "---- start moderating ----\n",
      "MODERATE have the seller and the buyer achieved a deal? Yes or No: Yes. Because the buyer confirmed the purchase at the price of $14.\n",
      "FINAL PRICE: 14.0\n",
      "\n",
      "\n",
      "\n",
      "==== ROUND 4 ====\n",
      "seller: Hi, this is a good balloon and its price is $20\n",
      "buyer: Would you consider selling it for $10?\n",
      "---- start bargaining ----\n",
      "seller: How about we meet in the middle at $15?\n",
      "buyer: $12, final offer.\n",
      "seller: Deal! It's yours for $12.\n",
      "buyer: Great, thank you!\n",
      "---- start moderating ----\n",
      "MODERATE have the seller and the buyer achieved a deal? Yes or No: Yes\n",
      "FINAL PRICE: 12.0\n",
      "\n",
      "\n",
      "\n",
      "==== ROUND 5 ====\n",
      "seller: Hi, this is a good balloon and its price is $20\n",
      "buyer: Would you consider selling it for $10?\n",
      "---- start bargaining ----\n",
      "seller: How about we meet in the middle at $15?\n",
      "buyer: I can do $12, final offer.\n",
      "seller: Deal! $12 it is.\n",
      "buyer: Great, thank you!\n",
      "---- start moderating ----\n"
     ]
    },
    {
     "ename": "KeyboardInterrupt",
     "evalue": "",
     "output_type": "error",
     "traceback": [
      "\u001b[0;31m---------------------------------------------------------------------------\u001b[0m",
      "\u001b[0;31mKeyboardInterrupt\u001b[0m                         Traceback (most recent call last)",
      "Cell \u001b[0;32mIn[43], line 8\u001b[0m\n\u001b[1;32m      6\u001b[0m seller\u001b[38;5;241m.\u001b[39mreset()\n\u001b[1;32m      7\u001b[0m moderator\u001b[38;5;241m.\u001b[39mreset()\n\u001b[0;32m----> 8\u001b[0m final_price \u001b[38;5;241m=\u001b[39m \u001b[43mrun\u001b[49m\u001b[43m(\u001b[49m\u001b[43mbuyer\u001b[49m\u001b[43m,\u001b[49m\u001b[43m \u001b[49m\u001b[43mseller\u001b[49m\u001b[43m,\u001b[49m\u001b[43m \u001b[49m\u001b[43mmoderator\u001b[49m\u001b[43m,\u001b[49m\u001b[43m \u001b[49m\u001b[43mn\u001b[49m\u001b[38;5;241;43m=\u001b[39;49m\u001b[38;5;241;43m5\u001b[39;49m\u001b[43m,\u001b[49m\u001b[43m \u001b[49m\u001b[43mfd\u001b[49m\u001b[38;5;241;43m=\u001b[39;49m\u001b[43mfd\u001b[49m\u001b[43m)\u001b[49m\n\u001b[1;32m      9\u001b[0m wprint(\u001b[38;5;124m\"\u001b[39m\u001b[38;5;124mFINAL PRICE: \u001b[39m\u001b[38;5;132;01m%s\u001b[39;00m\u001b[38;5;124m\"\u001b[39m \u001b[38;5;241m%\u001b[39m final_price, fd)\n\u001b[1;32m     10\u001b[0m \u001b[38;5;28;01mif\u001b[39;00m final_price \u001b[38;5;241m!=\u001b[39m \u001b[38;5;241m-\u001b[39m\u001b[38;5;241m1\u001b[39m:\n",
      "Cell \u001b[0;32mIn[23], line 43\u001b[0m, in \u001b[0;36mrun\u001b[0;34m(buyer, seller, moderator, n, fd, verbose)\u001b[0m\n\u001b[1;32m     40\u001b[0m     wprint(\u001b[38;5;124m\"\u001b[39m\u001b[38;5;124m---- start moderating ----\u001b[39m\u001b[38;5;124m\"\u001b[39m, fd, verbose\u001b[38;5;241m=\u001b[39mverbose)\n\u001b[1;32m     42\u001b[0m \u001b[38;5;28;01mif\u001b[39;00m start_involve_moderator:\n\u001b[0;32m---> 43\u001b[0m     moderate \u001b[38;5;241m=\u001b[39m \u001b[43mmoderator\u001b[49m\u001b[38;5;241;43m.\u001b[39;49m\u001b[43mmoderate\u001b[49m\u001b[43m(\u001b[49m\n\u001b[1;32m     44\u001b[0m \u001b[43m        \u001b[49m\u001b[43mbuyer\u001b[49m\u001b[38;5;241;43m.\u001b[39;49m\u001b[43mdialog_history\u001b[49m\u001b[43m,\u001b[49m\n\u001b[1;32m     45\u001b[0m \u001b[43m        \u001b[49m\u001b[43mwho_was_last\u001b[49m\u001b[38;5;241;43m=\u001b[39;49m\u001b[38;5;124;43m\"\u001b[39;49m\u001b[38;5;124;43mbuyer\u001b[39;49m\u001b[38;5;124;43m\"\u001b[39;49m\u001b[43m,\u001b[49m\n\u001b[1;32m     46\u001b[0m \u001b[43m    \u001b[49m\u001b[43m)\u001b[49m\n\u001b[1;32m     47\u001b[0m     wprint(\n\u001b[1;32m     48\u001b[0m         \u001b[38;5;124m\"\u001b[39m\u001b[38;5;124mMODERATE have the seller and the buyer achieved a deal? Yes or No: \u001b[39m\u001b[38;5;132;01m%s\u001b[39;00m\u001b[38;5;124m\"\u001b[39m\n\u001b[1;32m     49\u001b[0m         \u001b[38;5;241m%\u001b[39m moderate,\n\u001b[1;32m     50\u001b[0m         fd,\n\u001b[1;32m     51\u001b[0m         verbose\u001b[38;5;241m=\u001b[39mverbose,\n\u001b[1;32m     52\u001b[0m     )\n\u001b[1;32m     53\u001b[0m     \u001b[38;5;28;01mif\u001b[39;00m \u001b[38;5;124m\"\u001b[39m\u001b[38;5;124myes\u001b[39m\u001b[38;5;124m\"\u001b[39m \u001b[38;5;129;01min\u001b[39;00m moderate\u001b[38;5;241m.\u001b[39mlower():\n",
      "File \u001b[0;32m~/programming/GPT-Bargaining/notebooks/../agent.py:415\u001b[0m, in \u001b[0;36mModeratorAgent.moderate\u001b[0;34m(self, dialog_history, who_was_last, retry)\u001b[0m\n\u001b[1;32m    412\u001b[0m messages \u001b[38;5;241m=\u001b[39m deepcopy(\u001b[38;5;28mself\u001b[39m\u001b[38;5;241m.\u001b[39mdialog_history)\n\u001b[1;32m    413\u001b[0m messages[\u001b[38;5;241m-\u001b[39m\u001b[38;5;241m1\u001b[39m][\u001b[38;5;124m'\u001b[39m\u001b[38;5;124mcontent\u001b[39m\u001b[38;5;124m'\u001b[39m] \u001b[38;5;241m+\u001b[39m\u001b[38;5;241m=\u001b[39m \u001b[38;5;124m\"\u001b[39m\u001b[38;5;130;01m\\n\u001b[39;00m\u001b[38;5;130;01m\\n\u001b[39;00m\u001b[38;5;124m\"\u001b[39m \u001b[38;5;241m+\u001b[39m prompt\n\u001b[0;32m--> 415\u001b[0m response \u001b[38;5;241m=\u001b[39m \u001b[38;5;28;43mself\u001b[39;49m\u001b[38;5;241;43m.\u001b[39;49m\u001b[43mcall_engine\u001b[49m\u001b[43m(\u001b[49m\u001b[43mmessages\u001b[49m\u001b[43m)\u001b[49m\n\u001b[1;32m    416\u001b[0m \u001b[38;5;28;01mreturn\u001b[39;00m response[\u001b[38;5;124m'\u001b[39m\u001b[38;5;124mcontent\u001b[39m\u001b[38;5;124m'\u001b[39m]\n",
      "File \u001b[0;32m~/programming/GPT-Bargaining/notebooks/../agent.py:126\u001b[0m, in \u001b[0;36mDialogAgent.call_engine\u001b[0;34m(self, messages)\u001b[0m\n\u001b[1;32m    121\u001b[0m \u001b[38;5;66;03m# if(\"azure\" in self.engine):\u001b[39;00m\n\u001b[1;32m    122\u001b[0m \u001b[38;5;66;03m#     response = azure_completion_with_backoff(messages=messages)\u001b[39;00m\n\u001b[1;32m    123\u001b[0m \u001b[38;5;66;03m#     message = response['choices'][0]['message']\u001b[39;00m\n\u001b[1;32m    124\u001b[0m \u001b[38;5;28;01mif\u001b[39;00m(\u001b[38;5;124m\"\u001b[39m\u001b[38;5;124mgpt\u001b[39m\u001b[38;5;124m\"\u001b[39m \u001b[38;5;129;01min\u001b[39;00m \u001b[38;5;28mself\u001b[39m\u001b[38;5;241m.\u001b[39mengine):\n\u001b[1;32m    125\u001b[0m     \u001b[38;5;66;03m# import ipdb; ipdb.set_trace()\u001b[39;00m\n\u001b[0;32m--> 126\u001b[0m     response \u001b[38;5;241m=\u001b[39m \u001b[43mcompletion_with_backoff\u001b[49m\u001b[43m(\u001b[49m\n\u001b[1;32m    127\u001b[0m \u001b[43m                  \u001b[49m\u001b[43mmodel\u001b[49m\u001b[38;5;241;43m=\u001b[39;49m\u001b[38;5;28;43mself\u001b[39;49m\u001b[38;5;241;43m.\u001b[39;49m\u001b[43mengine\u001b[49m\u001b[43m,\u001b[49m\n\u001b[1;32m    128\u001b[0m \u001b[43m                  \u001b[49m\u001b[43mmessages\u001b[49m\u001b[38;5;241;43m=\u001b[39;49m\u001b[43mmessages\u001b[49m\n\u001b[1;32m    129\u001b[0m \u001b[43m                \u001b[49m\u001b[43m)\u001b[49m\n\u001b[1;32m    130\u001b[0m     message \u001b[38;5;241m=\u001b[39m response[\u001b[38;5;124m'\u001b[39m\u001b[38;5;124mchoices\u001b[39m\u001b[38;5;124m'\u001b[39m][\u001b[38;5;241m0\u001b[39m][\u001b[38;5;124m'\u001b[39m\u001b[38;5;124mmessage\u001b[39m\u001b[38;5;124m'\u001b[39m]\n\u001b[1;32m    131\u001b[0m     \u001b[38;5;28;01massert\u001b[39;00m(message[\u001b[38;5;124m'\u001b[39m\u001b[38;5;124mrole\u001b[39m\u001b[38;5;124m'\u001b[39m] \u001b[38;5;241m==\u001b[39m \u001b[38;5;124m'\u001b[39m\u001b[38;5;124massistant\u001b[39m\u001b[38;5;124m'\u001b[39m)\n",
      "File \u001b[0;32m~/.local/lib/python3.10/site-packages/tenacity/__init__.py:289\u001b[0m, in \u001b[0;36mBaseRetrying.wraps.<locals>.wrapped_f\u001b[0;34m(*args, **kw)\u001b[0m\n\u001b[1;32m    287\u001b[0m \u001b[38;5;129m@functools\u001b[39m\u001b[38;5;241m.\u001b[39mwraps(f)\n\u001b[1;32m    288\u001b[0m \u001b[38;5;28;01mdef\u001b[39;00m \u001b[38;5;21mwrapped_f\u001b[39m(\u001b[38;5;241m*\u001b[39margs: t\u001b[38;5;241m.\u001b[39mAny, \u001b[38;5;241m*\u001b[39m\u001b[38;5;241m*\u001b[39mkw: t\u001b[38;5;241m.\u001b[39mAny) \u001b[38;5;241m-\u001b[39m\u001b[38;5;241m>\u001b[39m t\u001b[38;5;241m.\u001b[39mAny:\n\u001b[0;32m--> 289\u001b[0m     \u001b[38;5;28;01mreturn\u001b[39;00m \u001b[38;5;28;43mself\u001b[39;49m\u001b[43m(\u001b[49m\u001b[43mf\u001b[49m\u001b[43m,\u001b[49m\u001b[43m \u001b[49m\u001b[38;5;241;43m*\u001b[39;49m\u001b[43margs\u001b[49m\u001b[43m,\u001b[49m\u001b[43m \u001b[49m\u001b[38;5;241;43m*\u001b[39;49m\u001b[38;5;241;43m*\u001b[39;49m\u001b[43mkw\u001b[49m\u001b[43m)\u001b[49m\n",
      "File \u001b[0;32m~/.local/lib/python3.10/site-packages/tenacity/__init__.py:379\u001b[0m, in \u001b[0;36mRetrying.__call__\u001b[0;34m(self, fn, *args, **kwargs)\u001b[0m\n\u001b[1;32m    377\u001b[0m retry_state \u001b[38;5;241m=\u001b[39m RetryCallState(retry_object\u001b[38;5;241m=\u001b[39m\u001b[38;5;28mself\u001b[39m, fn\u001b[38;5;241m=\u001b[39mfn, args\u001b[38;5;241m=\u001b[39margs, kwargs\u001b[38;5;241m=\u001b[39mkwargs)\n\u001b[1;32m    378\u001b[0m \u001b[38;5;28;01mwhile\u001b[39;00m \u001b[38;5;28;01mTrue\u001b[39;00m:\n\u001b[0;32m--> 379\u001b[0m     do \u001b[38;5;241m=\u001b[39m \u001b[38;5;28;43mself\u001b[39;49m\u001b[38;5;241;43m.\u001b[39;49m\u001b[43miter\u001b[49m\u001b[43m(\u001b[49m\u001b[43mretry_state\u001b[49m\u001b[38;5;241;43m=\u001b[39;49m\u001b[43mretry_state\u001b[49m\u001b[43m)\u001b[49m\n\u001b[1;32m    380\u001b[0m     \u001b[38;5;28;01mif\u001b[39;00m \u001b[38;5;28misinstance\u001b[39m(do, DoAttempt):\n\u001b[1;32m    381\u001b[0m         \u001b[38;5;28;01mtry\u001b[39;00m:\n",
      "File \u001b[0;32m~/.local/lib/python3.10/site-packages/tenacity/__init__.py:314\u001b[0m, in \u001b[0;36mBaseRetrying.iter\u001b[0;34m(self, retry_state)\u001b[0m\n\u001b[1;32m    312\u001b[0m is_explicit_retry \u001b[38;5;241m=\u001b[39m fut\u001b[38;5;241m.\u001b[39mfailed \u001b[38;5;129;01mand\u001b[39;00m \u001b[38;5;28misinstance\u001b[39m(fut\u001b[38;5;241m.\u001b[39mexception(), TryAgain)\n\u001b[1;32m    313\u001b[0m \u001b[38;5;28;01mif\u001b[39;00m \u001b[38;5;129;01mnot\u001b[39;00m (is_explicit_retry \u001b[38;5;129;01mor\u001b[39;00m \u001b[38;5;28mself\u001b[39m\u001b[38;5;241m.\u001b[39mretry(retry_state)):\n\u001b[0;32m--> 314\u001b[0m     \u001b[38;5;28;01mreturn\u001b[39;00m \u001b[43mfut\u001b[49m\u001b[38;5;241;43m.\u001b[39;49m\u001b[43mresult\u001b[49m\u001b[43m(\u001b[49m\u001b[43m)\u001b[49m\n\u001b[1;32m    316\u001b[0m \u001b[38;5;28;01mif\u001b[39;00m \u001b[38;5;28mself\u001b[39m\u001b[38;5;241m.\u001b[39mafter \u001b[38;5;129;01mis\u001b[39;00m \u001b[38;5;129;01mnot\u001b[39;00m \u001b[38;5;28;01mNone\u001b[39;00m:\n\u001b[1;32m    317\u001b[0m     \u001b[38;5;28mself\u001b[39m\u001b[38;5;241m.\u001b[39mafter(retry_state)\n",
      "File \u001b[0;32m/usr/lib/python3.10/concurrent/futures/_base.py:451\u001b[0m, in \u001b[0;36mFuture.result\u001b[0;34m(self, timeout)\u001b[0m\n\u001b[1;32m    449\u001b[0m     \u001b[38;5;28;01mraise\u001b[39;00m CancelledError()\n\u001b[1;32m    450\u001b[0m \u001b[38;5;28;01melif\u001b[39;00m \u001b[38;5;28mself\u001b[39m\u001b[38;5;241m.\u001b[39m_state \u001b[38;5;241m==\u001b[39m FINISHED:\n\u001b[0;32m--> 451\u001b[0m     \u001b[38;5;28;01mreturn\u001b[39;00m \u001b[38;5;28;43mself\u001b[39;49m\u001b[38;5;241;43m.\u001b[39;49m\u001b[43m__get_result\u001b[49m\u001b[43m(\u001b[49m\u001b[43m)\u001b[49m\n\u001b[1;32m    453\u001b[0m \u001b[38;5;28mself\u001b[39m\u001b[38;5;241m.\u001b[39m_condition\u001b[38;5;241m.\u001b[39mwait(timeout)\n\u001b[1;32m    455\u001b[0m \u001b[38;5;28;01mif\u001b[39;00m \u001b[38;5;28mself\u001b[39m\u001b[38;5;241m.\u001b[39m_state \u001b[38;5;129;01min\u001b[39;00m [CANCELLED, CANCELLED_AND_NOTIFIED]:\n",
      "File \u001b[0;32m/usr/lib/python3.10/concurrent/futures/_base.py:403\u001b[0m, in \u001b[0;36mFuture.__get_result\u001b[0;34m(self)\u001b[0m\n\u001b[1;32m    401\u001b[0m \u001b[38;5;28;01mif\u001b[39;00m \u001b[38;5;28mself\u001b[39m\u001b[38;5;241m.\u001b[39m_exception:\n\u001b[1;32m    402\u001b[0m     \u001b[38;5;28;01mtry\u001b[39;00m:\n\u001b[0;32m--> 403\u001b[0m         \u001b[38;5;28;01mraise\u001b[39;00m \u001b[38;5;28mself\u001b[39m\u001b[38;5;241m.\u001b[39m_exception\n\u001b[1;32m    404\u001b[0m     \u001b[38;5;28;01mfinally\u001b[39;00m:\n\u001b[1;32m    405\u001b[0m         \u001b[38;5;66;03m# Break a reference cycle with the exception in self._exception\u001b[39;00m\n\u001b[1;32m    406\u001b[0m         \u001b[38;5;28mself\u001b[39m \u001b[38;5;241m=\u001b[39m \u001b[38;5;28;01mNone\u001b[39;00m\n",
      "File \u001b[0;32m~/.local/lib/python3.10/site-packages/tenacity/__init__.py:382\u001b[0m, in \u001b[0;36mRetrying.__call__\u001b[0;34m(self, fn, *args, **kwargs)\u001b[0m\n\u001b[1;32m    380\u001b[0m \u001b[38;5;28;01mif\u001b[39;00m \u001b[38;5;28misinstance\u001b[39m(do, DoAttempt):\n\u001b[1;32m    381\u001b[0m     \u001b[38;5;28;01mtry\u001b[39;00m:\n\u001b[0;32m--> 382\u001b[0m         result \u001b[38;5;241m=\u001b[39m \u001b[43mfn\u001b[49m\u001b[43m(\u001b[49m\u001b[38;5;241;43m*\u001b[39;49m\u001b[43margs\u001b[49m\u001b[43m,\u001b[49m\u001b[43m \u001b[49m\u001b[38;5;241;43m*\u001b[39;49m\u001b[38;5;241;43m*\u001b[39;49m\u001b[43mkwargs\u001b[49m\u001b[43m)\u001b[49m\n\u001b[1;32m    383\u001b[0m     \u001b[38;5;28;01mexcept\u001b[39;00m \u001b[38;5;167;01mBaseException\u001b[39;00m:  \u001b[38;5;66;03m# noqa: B902\u001b[39;00m\n\u001b[1;32m    384\u001b[0m         retry_state\u001b[38;5;241m.\u001b[39mset_exception(sys\u001b[38;5;241m.\u001b[39mexc_info())  \u001b[38;5;66;03m# type: ignore[arg-type]\u001b[39;00m\n",
      "File \u001b[0;32m~/programming/GPT-Bargaining/notebooks/../lib_api.py:26\u001b[0m, in \u001b[0;36mcompletion_with_backoff\u001b[0;34m(**kwargs)\u001b[0m\n\u001b[1;32m     21\u001b[0m \u001b[38;5;129m@retry\u001b[39m(stop\u001b[38;5;241m=\u001b[39mstop_after_attempt(STOP_AFTER_ATTEMPT), \n\u001b[1;32m     22\u001b[0m         wait\u001b[38;5;241m=\u001b[39mwait_chain(\u001b[38;5;241m*\u001b[39m[wait_fixed(\u001b[38;5;241m3\u001b[39m) \u001b[38;5;28;01mfor\u001b[39;00m i \u001b[38;5;129;01min\u001b[39;00m \u001b[38;5;28mrange\u001b[39m(\u001b[38;5;241m2\u001b[39m)] \u001b[38;5;241m+\u001b[39m\n\u001b[1;32m     23\u001b[0m                        [wait_fixed(\u001b[38;5;241m5\u001b[39m) \u001b[38;5;28;01mfor\u001b[39;00m i \u001b[38;5;129;01min\u001b[39;00m \u001b[38;5;28mrange\u001b[39m(\u001b[38;5;241m1\u001b[39m)]))\n\u001b[1;32m     24\u001b[0m \u001b[38;5;28;01mdef\u001b[39;00m \u001b[38;5;21mcompletion_with_backoff\u001b[39m(\u001b[38;5;241m*\u001b[39m\u001b[38;5;241m*\u001b[39mkwargs):\n\u001b[1;32m     25\u001b[0m     \u001b[38;5;124;03m\"\"\"OpenAI API wrapper, if network error then retry 3 times\"\"\"\u001b[39;00m\n\u001b[0;32m---> 26\u001b[0m     \u001b[38;5;28;01mreturn\u001b[39;00m \u001b[43mopenai\u001b[49m\u001b[38;5;241;43m.\u001b[39;49m\u001b[43mChatCompletion\u001b[49m\u001b[38;5;241;43m.\u001b[39;49m\u001b[43mcreate\u001b[49m\u001b[43m(\u001b[49m\u001b[38;5;241;43m*\u001b[39;49m\u001b[38;5;241;43m*\u001b[39;49m\u001b[43mkwargs\u001b[49m\u001b[43m)\u001b[49m\n",
      "File \u001b[0;32m~/.local/lib/python3.10/site-packages/openai/api_resources/chat_completion.py:25\u001b[0m, in \u001b[0;36mChatCompletion.create\u001b[0;34m(cls, *args, **kwargs)\u001b[0m\n\u001b[1;32m     23\u001b[0m \u001b[38;5;28;01mwhile\u001b[39;00m \u001b[38;5;28;01mTrue\u001b[39;00m:\n\u001b[1;32m     24\u001b[0m     \u001b[38;5;28;01mtry\u001b[39;00m:\n\u001b[0;32m---> 25\u001b[0m         \u001b[38;5;28;01mreturn\u001b[39;00m \u001b[38;5;28;43msuper\u001b[39;49m\u001b[43m(\u001b[49m\u001b[43m)\u001b[49m\u001b[38;5;241;43m.\u001b[39;49m\u001b[43mcreate\u001b[49m\u001b[43m(\u001b[49m\u001b[38;5;241;43m*\u001b[39;49m\u001b[43margs\u001b[49m\u001b[43m,\u001b[49m\u001b[43m \u001b[49m\u001b[38;5;241;43m*\u001b[39;49m\u001b[38;5;241;43m*\u001b[39;49m\u001b[43mkwargs\u001b[49m\u001b[43m)\u001b[49m\n\u001b[1;32m     26\u001b[0m     \u001b[38;5;28;01mexcept\u001b[39;00m TryAgain \u001b[38;5;28;01mas\u001b[39;00m e:\n\u001b[1;32m     27\u001b[0m         \u001b[38;5;28;01mif\u001b[39;00m timeout \u001b[38;5;129;01mis\u001b[39;00m \u001b[38;5;129;01mnot\u001b[39;00m \u001b[38;5;28;01mNone\u001b[39;00m \u001b[38;5;129;01mand\u001b[39;00m time\u001b[38;5;241m.\u001b[39mtime() \u001b[38;5;241m>\u001b[39m start \u001b[38;5;241m+\u001b[39m timeout:\n",
      "File \u001b[0;32m~/.local/lib/python3.10/site-packages/openai/api_resources/abstract/engine_api_resource.py:153\u001b[0m, in \u001b[0;36mEngineAPIResource.create\u001b[0;34m(cls, api_key, api_base, api_type, request_id, api_version, organization, **params)\u001b[0m\n\u001b[1;32m    127\u001b[0m \u001b[38;5;129m@classmethod\u001b[39m\n\u001b[1;32m    128\u001b[0m \u001b[38;5;28;01mdef\u001b[39;00m \u001b[38;5;21mcreate\u001b[39m(\n\u001b[1;32m    129\u001b[0m     \u001b[38;5;28mcls\u001b[39m,\n\u001b[0;32m   (...)\u001b[0m\n\u001b[1;32m    136\u001b[0m     \u001b[38;5;241m*\u001b[39m\u001b[38;5;241m*\u001b[39mparams,\n\u001b[1;32m    137\u001b[0m ):\n\u001b[1;32m    138\u001b[0m     (\n\u001b[1;32m    139\u001b[0m         deployment_id,\n\u001b[1;32m    140\u001b[0m         engine,\n\u001b[0;32m   (...)\u001b[0m\n\u001b[1;32m    150\u001b[0m         api_key, api_base, api_type, api_version, organization, \u001b[38;5;241m*\u001b[39m\u001b[38;5;241m*\u001b[39mparams\n\u001b[1;32m    151\u001b[0m     )\n\u001b[0;32m--> 153\u001b[0m     response, _, api_key \u001b[38;5;241m=\u001b[39m \u001b[43mrequestor\u001b[49m\u001b[38;5;241;43m.\u001b[39;49m\u001b[43mrequest\u001b[49m\u001b[43m(\u001b[49m\n\u001b[1;32m    154\u001b[0m \u001b[43m        \u001b[49m\u001b[38;5;124;43m\"\u001b[39;49m\u001b[38;5;124;43mpost\u001b[39;49m\u001b[38;5;124;43m\"\u001b[39;49m\u001b[43m,\u001b[49m\n\u001b[1;32m    155\u001b[0m \u001b[43m        \u001b[49m\u001b[43murl\u001b[49m\u001b[43m,\u001b[49m\n\u001b[1;32m    156\u001b[0m \u001b[43m        \u001b[49m\u001b[43mparams\u001b[49m\u001b[38;5;241;43m=\u001b[39;49m\u001b[43mparams\u001b[49m\u001b[43m,\u001b[49m\n\u001b[1;32m    157\u001b[0m \u001b[43m        \u001b[49m\u001b[43mheaders\u001b[49m\u001b[38;5;241;43m=\u001b[39;49m\u001b[43mheaders\u001b[49m\u001b[43m,\u001b[49m\n\u001b[1;32m    158\u001b[0m \u001b[43m        \u001b[49m\u001b[43mstream\u001b[49m\u001b[38;5;241;43m=\u001b[39;49m\u001b[43mstream\u001b[49m\u001b[43m,\u001b[49m\n\u001b[1;32m    159\u001b[0m \u001b[43m        \u001b[49m\u001b[43mrequest_id\u001b[49m\u001b[38;5;241;43m=\u001b[39;49m\u001b[43mrequest_id\u001b[49m\u001b[43m,\u001b[49m\n\u001b[1;32m    160\u001b[0m \u001b[43m        \u001b[49m\u001b[43mrequest_timeout\u001b[49m\u001b[38;5;241;43m=\u001b[39;49m\u001b[43mrequest_timeout\u001b[49m\u001b[43m,\u001b[49m\n\u001b[1;32m    161\u001b[0m \u001b[43m    \u001b[49m\u001b[43m)\u001b[49m\n\u001b[1;32m    163\u001b[0m     \u001b[38;5;28;01mif\u001b[39;00m stream:\n\u001b[1;32m    164\u001b[0m         \u001b[38;5;66;03m# must be an iterator\u001b[39;00m\n\u001b[1;32m    165\u001b[0m         \u001b[38;5;28;01massert\u001b[39;00m \u001b[38;5;129;01mnot\u001b[39;00m \u001b[38;5;28misinstance\u001b[39m(response, OpenAIResponse)\n",
      "File \u001b[0;32m~/.local/lib/python3.10/site-packages/openai/api_requestor.py:288\u001b[0m, in \u001b[0;36mAPIRequestor.request\u001b[0;34m(self, method, url, params, headers, files, stream, request_id, request_timeout)\u001b[0m\n\u001b[1;32m    277\u001b[0m \u001b[38;5;28;01mdef\u001b[39;00m \u001b[38;5;21mrequest\u001b[39m(\n\u001b[1;32m    278\u001b[0m     \u001b[38;5;28mself\u001b[39m,\n\u001b[1;32m    279\u001b[0m     method,\n\u001b[0;32m   (...)\u001b[0m\n\u001b[1;32m    286\u001b[0m     request_timeout: Optional[Union[\u001b[38;5;28mfloat\u001b[39m, Tuple[\u001b[38;5;28mfloat\u001b[39m, \u001b[38;5;28mfloat\u001b[39m]]] \u001b[38;5;241m=\u001b[39m \u001b[38;5;28;01mNone\u001b[39;00m,\n\u001b[1;32m    287\u001b[0m ) \u001b[38;5;241m-\u001b[39m\u001b[38;5;241m>\u001b[39m Tuple[Union[OpenAIResponse, Iterator[OpenAIResponse]], \u001b[38;5;28mbool\u001b[39m, \u001b[38;5;28mstr\u001b[39m]:\n\u001b[0;32m--> 288\u001b[0m     result \u001b[38;5;241m=\u001b[39m \u001b[38;5;28;43mself\u001b[39;49m\u001b[38;5;241;43m.\u001b[39;49m\u001b[43mrequest_raw\u001b[49m\u001b[43m(\u001b[49m\n\u001b[1;32m    289\u001b[0m \u001b[43m        \u001b[49m\u001b[43mmethod\u001b[49m\u001b[38;5;241;43m.\u001b[39;49m\u001b[43mlower\u001b[49m\u001b[43m(\u001b[49m\u001b[43m)\u001b[49m\u001b[43m,\u001b[49m\n\u001b[1;32m    290\u001b[0m \u001b[43m        \u001b[49m\u001b[43murl\u001b[49m\u001b[43m,\u001b[49m\n\u001b[1;32m    291\u001b[0m \u001b[43m        \u001b[49m\u001b[43mparams\u001b[49m\u001b[38;5;241;43m=\u001b[39;49m\u001b[43mparams\u001b[49m\u001b[43m,\u001b[49m\n\u001b[1;32m    292\u001b[0m \u001b[43m        \u001b[49m\u001b[43msupplied_headers\u001b[49m\u001b[38;5;241;43m=\u001b[39;49m\u001b[43mheaders\u001b[49m\u001b[43m,\u001b[49m\n\u001b[1;32m    293\u001b[0m \u001b[43m        \u001b[49m\u001b[43mfiles\u001b[49m\u001b[38;5;241;43m=\u001b[39;49m\u001b[43mfiles\u001b[49m\u001b[43m,\u001b[49m\n\u001b[1;32m    294\u001b[0m \u001b[43m        \u001b[49m\u001b[43mstream\u001b[49m\u001b[38;5;241;43m=\u001b[39;49m\u001b[43mstream\u001b[49m\u001b[43m,\u001b[49m\n\u001b[1;32m    295\u001b[0m \u001b[43m        \u001b[49m\u001b[43mrequest_id\u001b[49m\u001b[38;5;241;43m=\u001b[39;49m\u001b[43mrequest_id\u001b[49m\u001b[43m,\u001b[49m\n\u001b[1;32m    296\u001b[0m \u001b[43m        \u001b[49m\u001b[43mrequest_timeout\u001b[49m\u001b[38;5;241;43m=\u001b[39;49m\u001b[43mrequest_timeout\u001b[49m\u001b[43m,\u001b[49m\n\u001b[1;32m    297\u001b[0m \u001b[43m    \u001b[49m\u001b[43m)\u001b[49m\n\u001b[1;32m    298\u001b[0m     resp, got_stream \u001b[38;5;241m=\u001b[39m \u001b[38;5;28mself\u001b[39m\u001b[38;5;241m.\u001b[39m_interpret_response(result, stream)\n\u001b[1;32m    299\u001b[0m     \u001b[38;5;28;01mreturn\u001b[39;00m resp, got_stream, \u001b[38;5;28mself\u001b[39m\u001b[38;5;241m.\u001b[39mapi_key\n",
      "File \u001b[0;32m~/.local/lib/python3.10/site-packages/openai/api_requestor.py:596\u001b[0m, in \u001b[0;36mAPIRequestor.request_raw\u001b[0;34m(self, method, url, params, supplied_headers, files, stream, request_id, request_timeout)\u001b[0m\n\u001b[1;32m    594\u001b[0m     _thread_context\u001b[38;5;241m.\u001b[39msession_create_time \u001b[38;5;241m=\u001b[39m time\u001b[38;5;241m.\u001b[39mtime()\n\u001b[1;32m    595\u001b[0m \u001b[38;5;28;01mtry\u001b[39;00m:\n\u001b[0;32m--> 596\u001b[0m     result \u001b[38;5;241m=\u001b[39m \u001b[43m_thread_context\u001b[49m\u001b[38;5;241;43m.\u001b[39;49m\u001b[43msession\u001b[49m\u001b[38;5;241;43m.\u001b[39;49m\u001b[43mrequest\u001b[49m\u001b[43m(\u001b[49m\n\u001b[1;32m    597\u001b[0m \u001b[43m        \u001b[49m\u001b[43mmethod\u001b[49m\u001b[43m,\u001b[49m\n\u001b[1;32m    598\u001b[0m \u001b[43m        \u001b[49m\u001b[43mabs_url\u001b[49m\u001b[43m,\u001b[49m\n\u001b[1;32m    599\u001b[0m \u001b[43m        \u001b[49m\u001b[43mheaders\u001b[49m\u001b[38;5;241;43m=\u001b[39;49m\u001b[43mheaders\u001b[49m\u001b[43m,\u001b[49m\n\u001b[1;32m    600\u001b[0m \u001b[43m        \u001b[49m\u001b[43mdata\u001b[49m\u001b[38;5;241;43m=\u001b[39;49m\u001b[43mdata\u001b[49m\u001b[43m,\u001b[49m\n\u001b[1;32m    601\u001b[0m \u001b[43m        \u001b[49m\u001b[43mfiles\u001b[49m\u001b[38;5;241;43m=\u001b[39;49m\u001b[43mfiles\u001b[49m\u001b[43m,\u001b[49m\n\u001b[1;32m    602\u001b[0m \u001b[43m        \u001b[49m\u001b[43mstream\u001b[49m\u001b[38;5;241;43m=\u001b[39;49m\u001b[43mstream\u001b[49m\u001b[43m,\u001b[49m\n\u001b[1;32m    603\u001b[0m \u001b[43m        \u001b[49m\u001b[43mtimeout\u001b[49m\u001b[38;5;241;43m=\u001b[39;49m\u001b[43mrequest_timeout\u001b[49m\u001b[43m \u001b[49m\u001b[38;5;28;43;01mif\u001b[39;49;00m\u001b[43m \u001b[49m\u001b[43mrequest_timeout\u001b[49m\u001b[43m \u001b[49m\u001b[38;5;28;43;01melse\u001b[39;49;00m\u001b[43m \u001b[49m\u001b[43mTIMEOUT_SECS\u001b[49m\u001b[43m,\u001b[49m\n\u001b[1;32m    604\u001b[0m \u001b[43m        \u001b[49m\u001b[43mproxies\u001b[49m\u001b[38;5;241;43m=\u001b[39;49m\u001b[43m_thread_context\u001b[49m\u001b[38;5;241;43m.\u001b[39;49m\u001b[43msession\u001b[49m\u001b[38;5;241;43m.\u001b[39;49m\u001b[43mproxies\u001b[49m\u001b[43m,\u001b[49m\n\u001b[1;32m    605\u001b[0m \u001b[43m    \u001b[49m\u001b[43m)\u001b[49m\n\u001b[1;32m    606\u001b[0m \u001b[38;5;28;01mexcept\u001b[39;00m requests\u001b[38;5;241m.\u001b[39mexceptions\u001b[38;5;241m.\u001b[39mTimeout \u001b[38;5;28;01mas\u001b[39;00m e:\n\u001b[1;32m    607\u001b[0m     \u001b[38;5;28;01mraise\u001b[39;00m error\u001b[38;5;241m.\u001b[39mTimeout(\u001b[38;5;124m\"\u001b[39m\u001b[38;5;124mRequest timed out: \u001b[39m\u001b[38;5;132;01m{}\u001b[39;00m\u001b[38;5;124m\"\u001b[39m\u001b[38;5;241m.\u001b[39mformat(e)) \u001b[38;5;28;01mfrom\u001b[39;00m \u001b[38;5;21;01me\u001b[39;00m\n",
      "File \u001b[0;32m~/.local/lib/python3.10/site-packages/requests/sessions.py:589\u001b[0m, in \u001b[0;36mSession.request\u001b[0;34m(self, method, url, params, data, headers, cookies, files, auth, timeout, allow_redirects, proxies, hooks, stream, verify, cert, json)\u001b[0m\n\u001b[1;32m    584\u001b[0m send_kwargs \u001b[38;5;241m=\u001b[39m {\n\u001b[1;32m    585\u001b[0m     \u001b[38;5;124m\"\u001b[39m\u001b[38;5;124mtimeout\u001b[39m\u001b[38;5;124m\"\u001b[39m: timeout,\n\u001b[1;32m    586\u001b[0m     \u001b[38;5;124m\"\u001b[39m\u001b[38;5;124mallow_redirects\u001b[39m\u001b[38;5;124m\"\u001b[39m: allow_redirects,\n\u001b[1;32m    587\u001b[0m }\n\u001b[1;32m    588\u001b[0m send_kwargs\u001b[38;5;241m.\u001b[39mupdate(settings)\n\u001b[0;32m--> 589\u001b[0m resp \u001b[38;5;241m=\u001b[39m \u001b[38;5;28;43mself\u001b[39;49m\u001b[38;5;241;43m.\u001b[39;49m\u001b[43msend\u001b[49m\u001b[43m(\u001b[49m\u001b[43mprep\u001b[49m\u001b[43m,\u001b[49m\u001b[43m \u001b[49m\u001b[38;5;241;43m*\u001b[39;49m\u001b[38;5;241;43m*\u001b[39;49m\u001b[43msend_kwargs\u001b[49m\u001b[43m)\u001b[49m\n\u001b[1;32m    591\u001b[0m \u001b[38;5;28;01mreturn\u001b[39;00m resp\n",
      "File \u001b[0;32m~/.local/lib/python3.10/site-packages/requests/sessions.py:703\u001b[0m, in \u001b[0;36mSession.send\u001b[0;34m(self, request, **kwargs)\u001b[0m\n\u001b[1;32m    700\u001b[0m start \u001b[38;5;241m=\u001b[39m preferred_clock()\n\u001b[1;32m    702\u001b[0m \u001b[38;5;66;03m# Send the request\u001b[39;00m\n\u001b[0;32m--> 703\u001b[0m r \u001b[38;5;241m=\u001b[39m \u001b[43madapter\u001b[49m\u001b[38;5;241;43m.\u001b[39;49m\u001b[43msend\u001b[49m\u001b[43m(\u001b[49m\u001b[43mrequest\u001b[49m\u001b[43m,\u001b[49m\u001b[43m \u001b[49m\u001b[38;5;241;43m*\u001b[39;49m\u001b[38;5;241;43m*\u001b[39;49m\u001b[43mkwargs\u001b[49m\u001b[43m)\u001b[49m\n\u001b[1;32m    705\u001b[0m \u001b[38;5;66;03m# Total elapsed time of the request (approximately)\u001b[39;00m\n\u001b[1;32m    706\u001b[0m elapsed \u001b[38;5;241m=\u001b[39m preferred_clock() \u001b[38;5;241m-\u001b[39m start\n",
      "File \u001b[0;32m~/.local/lib/python3.10/site-packages/requests/adapters.py:486\u001b[0m, in \u001b[0;36mHTTPAdapter.send\u001b[0;34m(self, request, stream, timeout, verify, cert, proxies)\u001b[0m\n\u001b[1;32m    483\u001b[0m     timeout \u001b[38;5;241m=\u001b[39m TimeoutSauce(connect\u001b[38;5;241m=\u001b[39mtimeout, read\u001b[38;5;241m=\u001b[39mtimeout)\n\u001b[1;32m    485\u001b[0m \u001b[38;5;28;01mtry\u001b[39;00m:\n\u001b[0;32m--> 486\u001b[0m     resp \u001b[38;5;241m=\u001b[39m \u001b[43mconn\u001b[49m\u001b[38;5;241;43m.\u001b[39;49m\u001b[43murlopen\u001b[49m\u001b[43m(\u001b[49m\n\u001b[1;32m    487\u001b[0m \u001b[43m        \u001b[49m\u001b[43mmethod\u001b[49m\u001b[38;5;241;43m=\u001b[39;49m\u001b[43mrequest\u001b[49m\u001b[38;5;241;43m.\u001b[39;49m\u001b[43mmethod\u001b[49m\u001b[43m,\u001b[49m\n\u001b[1;32m    488\u001b[0m \u001b[43m        \u001b[49m\u001b[43murl\u001b[49m\u001b[38;5;241;43m=\u001b[39;49m\u001b[43murl\u001b[49m\u001b[43m,\u001b[49m\n\u001b[1;32m    489\u001b[0m \u001b[43m        \u001b[49m\u001b[43mbody\u001b[49m\u001b[38;5;241;43m=\u001b[39;49m\u001b[43mrequest\u001b[49m\u001b[38;5;241;43m.\u001b[39;49m\u001b[43mbody\u001b[49m\u001b[43m,\u001b[49m\n\u001b[1;32m    490\u001b[0m \u001b[43m        \u001b[49m\u001b[43mheaders\u001b[49m\u001b[38;5;241;43m=\u001b[39;49m\u001b[43mrequest\u001b[49m\u001b[38;5;241;43m.\u001b[39;49m\u001b[43mheaders\u001b[49m\u001b[43m,\u001b[49m\n\u001b[1;32m    491\u001b[0m \u001b[43m        \u001b[49m\u001b[43mredirect\u001b[49m\u001b[38;5;241;43m=\u001b[39;49m\u001b[38;5;28;43;01mFalse\u001b[39;49;00m\u001b[43m,\u001b[49m\n\u001b[1;32m    492\u001b[0m \u001b[43m        \u001b[49m\u001b[43massert_same_host\u001b[49m\u001b[38;5;241;43m=\u001b[39;49m\u001b[38;5;28;43;01mFalse\u001b[39;49;00m\u001b[43m,\u001b[49m\n\u001b[1;32m    493\u001b[0m \u001b[43m        \u001b[49m\u001b[43mpreload_content\u001b[49m\u001b[38;5;241;43m=\u001b[39;49m\u001b[38;5;28;43;01mFalse\u001b[39;49;00m\u001b[43m,\u001b[49m\n\u001b[1;32m    494\u001b[0m \u001b[43m        \u001b[49m\u001b[43mdecode_content\u001b[49m\u001b[38;5;241;43m=\u001b[39;49m\u001b[38;5;28;43;01mFalse\u001b[39;49;00m\u001b[43m,\u001b[49m\n\u001b[1;32m    495\u001b[0m \u001b[43m        \u001b[49m\u001b[43mretries\u001b[49m\u001b[38;5;241;43m=\u001b[39;49m\u001b[38;5;28;43mself\u001b[39;49m\u001b[38;5;241;43m.\u001b[39;49m\u001b[43mmax_retries\u001b[49m\u001b[43m,\u001b[49m\n\u001b[1;32m    496\u001b[0m \u001b[43m        \u001b[49m\u001b[43mtimeout\u001b[49m\u001b[38;5;241;43m=\u001b[39;49m\u001b[43mtimeout\u001b[49m\u001b[43m,\u001b[49m\n\u001b[1;32m    497\u001b[0m \u001b[43m        \u001b[49m\u001b[43mchunked\u001b[49m\u001b[38;5;241;43m=\u001b[39;49m\u001b[43mchunked\u001b[49m\u001b[43m,\u001b[49m\n\u001b[1;32m    498\u001b[0m \u001b[43m    \u001b[49m\u001b[43m)\u001b[49m\n\u001b[1;32m    500\u001b[0m \u001b[38;5;28;01mexcept\u001b[39;00m (ProtocolError, \u001b[38;5;167;01mOSError\u001b[39;00m) \u001b[38;5;28;01mas\u001b[39;00m err:\n\u001b[1;32m    501\u001b[0m     \u001b[38;5;28;01mraise\u001b[39;00m \u001b[38;5;167;01mConnectionError\u001b[39;00m(err, request\u001b[38;5;241m=\u001b[39mrequest)\n",
      "File \u001b[0;32m/usr/lib/python3/dist-packages/urllib3/connectionpool.py:699\u001b[0m, in \u001b[0;36mHTTPConnectionPool.urlopen\u001b[0;34m(self, method, url, body, headers, retries, redirect, assert_same_host, timeout, pool_timeout, release_conn, chunked, body_pos, **response_kw)\u001b[0m\n\u001b[1;32m    696\u001b[0m     \u001b[38;5;28mself\u001b[39m\u001b[38;5;241m.\u001b[39m_prepare_proxy(conn)\n\u001b[1;32m    698\u001b[0m \u001b[38;5;66;03m# Make the request on the httplib connection object.\u001b[39;00m\n\u001b[0;32m--> 699\u001b[0m httplib_response \u001b[38;5;241m=\u001b[39m \u001b[38;5;28;43mself\u001b[39;49m\u001b[38;5;241;43m.\u001b[39;49m\u001b[43m_make_request\u001b[49m\u001b[43m(\u001b[49m\n\u001b[1;32m    700\u001b[0m \u001b[43m    \u001b[49m\u001b[43mconn\u001b[49m\u001b[43m,\u001b[49m\n\u001b[1;32m    701\u001b[0m \u001b[43m    \u001b[49m\u001b[43mmethod\u001b[49m\u001b[43m,\u001b[49m\n\u001b[1;32m    702\u001b[0m \u001b[43m    \u001b[49m\u001b[43murl\u001b[49m\u001b[43m,\u001b[49m\n\u001b[1;32m    703\u001b[0m \u001b[43m    \u001b[49m\u001b[43mtimeout\u001b[49m\u001b[38;5;241;43m=\u001b[39;49m\u001b[43mtimeout_obj\u001b[49m\u001b[43m,\u001b[49m\n\u001b[1;32m    704\u001b[0m \u001b[43m    \u001b[49m\u001b[43mbody\u001b[49m\u001b[38;5;241;43m=\u001b[39;49m\u001b[43mbody\u001b[49m\u001b[43m,\u001b[49m\n\u001b[1;32m    705\u001b[0m \u001b[43m    \u001b[49m\u001b[43mheaders\u001b[49m\u001b[38;5;241;43m=\u001b[39;49m\u001b[43mheaders\u001b[49m\u001b[43m,\u001b[49m\n\u001b[1;32m    706\u001b[0m \u001b[43m    \u001b[49m\u001b[43mchunked\u001b[49m\u001b[38;5;241;43m=\u001b[39;49m\u001b[43mchunked\u001b[49m\u001b[43m,\u001b[49m\n\u001b[1;32m    707\u001b[0m \u001b[43m\u001b[49m\u001b[43m)\u001b[49m\n\u001b[1;32m    709\u001b[0m \u001b[38;5;66;03m# If we're going to release the connection in ``finally:``, then\u001b[39;00m\n\u001b[1;32m    710\u001b[0m \u001b[38;5;66;03m# the response doesn't need to know about the connection. Otherwise\u001b[39;00m\n\u001b[1;32m    711\u001b[0m \u001b[38;5;66;03m# it will also try to release it and we'll have a double-release\u001b[39;00m\n\u001b[1;32m    712\u001b[0m \u001b[38;5;66;03m# mess.\u001b[39;00m\n\u001b[1;32m    713\u001b[0m response_conn \u001b[38;5;241m=\u001b[39m conn \u001b[38;5;28;01mif\u001b[39;00m \u001b[38;5;129;01mnot\u001b[39;00m release_conn \u001b[38;5;28;01melse\u001b[39;00m \u001b[38;5;28;01mNone\u001b[39;00m\n",
      "File \u001b[0;32m/usr/lib/python3/dist-packages/urllib3/connectionpool.py:445\u001b[0m, in \u001b[0;36mHTTPConnectionPool._make_request\u001b[0;34m(self, conn, method, url, timeout, chunked, **httplib_request_kw)\u001b[0m\n\u001b[1;32m    440\u001b[0m             httplib_response \u001b[38;5;241m=\u001b[39m conn\u001b[38;5;241m.\u001b[39mgetresponse()\n\u001b[1;32m    441\u001b[0m         \u001b[38;5;28;01mexcept\u001b[39;00m \u001b[38;5;167;01mBaseException\u001b[39;00m \u001b[38;5;28;01mas\u001b[39;00m e:\n\u001b[1;32m    442\u001b[0m             \u001b[38;5;66;03m# Remove the TypeError from the exception chain in\u001b[39;00m\n\u001b[1;32m    443\u001b[0m             \u001b[38;5;66;03m# Python 3 (including for exceptions like SystemExit).\u001b[39;00m\n\u001b[1;32m    444\u001b[0m             \u001b[38;5;66;03m# Otherwise it looks like a bug in the code.\u001b[39;00m\n\u001b[0;32m--> 445\u001b[0m             \u001b[43msix\u001b[49m\u001b[38;5;241;43m.\u001b[39;49m\u001b[43mraise_from\u001b[49m\u001b[43m(\u001b[49m\u001b[43me\u001b[49m\u001b[43m,\u001b[49m\u001b[43m \u001b[49m\u001b[38;5;28;43;01mNone\u001b[39;49;00m\u001b[43m)\u001b[49m\n\u001b[1;32m    446\u001b[0m \u001b[38;5;28;01mexcept\u001b[39;00m (SocketTimeout, BaseSSLError, SocketError) \u001b[38;5;28;01mas\u001b[39;00m e:\n\u001b[1;32m    447\u001b[0m     \u001b[38;5;28mself\u001b[39m\u001b[38;5;241m.\u001b[39m_raise_timeout(err\u001b[38;5;241m=\u001b[39me, url\u001b[38;5;241m=\u001b[39murl, timeout_value\u001b[38;5;241m=\u001b[39mread_timeout)\n",
      "File \u001b[0;32m<string>:3\u001b[0m, in \u001b[0;36mraise_from\u001b[0;34m(value, from_value)\u001b[0m\n",
      "File \u001b[0;32m/usr/lib/python3/dist-packages/urllib3/connectionpool.py:440\u001b[0m, in \u001b[0;36mHTTPConnectionPool._make_request\u001b[0;34m(self, conn, method, url, timeout, chunked, **httplib_request_kw)\u001b[0m\n\u001b[1;32m    437\u001b[0m \u001b[38;5;28;01mexcept\u001b[39;00m \u001b[38;5;167;01mTypeError\u001b[39;00m:\n\u001b[1;32m    438\u001b[0m     \u001b[38;5;66;03m# Python 3\u001b[39;00m\n\u001b[1;32m    439\u001b[0m     \u001b[38;5;28;01mtry\u001b[39;00m:\n\u001b[0;32m--> 440\u001b[0m         httplib_response \u001b[38;5;241m=\u001b[39m \u001b[43mconn\u001b[49m\u001b[38;5;241;43m.\u001b[39;49m\u001b[43mgetresponse\u001b[49m\u001b[43m(\u001b[49m\u001b[43m)\u001b[49m\n\u001b[1;32m    441\u001b[0m     \u001b[38;5;28;01mexcept\u001b[39;00m \u001b[38;5;167;01mBaseException\u001b[39;00m \u001b[38;5;28;01mas\u001b[39;00m e:\n\u001b[1;32m    442\u001b[0m         \u001b[38;5;66;03m# Remove the TypeError from the exception chain in\u001b[39;00m\n\u001b[1;32m    443\u001b[0m         \u001b[38;5;66;03m# Python 3 (including for exceptions like SystemExit).\u001b[39;00m\n\u001b[1;32m    444\u001b[0m         \u001b[38;5;66;03m# Otherwise it looks like a bug in the code.\u001b[39;00m\n\u001b[1;32m    445\u001b[0m         six\u001b[38;5;241m.\u001b[39mraise_from(e, \u001b[38;5;28;01mNone\u001b[39;00m)\n",
      "File \u001b[0;32m/usr/lib/python3.10/http/client.py:1374\u001b[0m, in \u001b[0;36mHTTPConnection.getresponse\u001b[0;34m(self)\u001b[0m\n\u001b[1;32m   1372\u001b[0m \u001b[38;5;28;01mtry\u001b[39;00m:\n\u001b[1;32m   1373\u001b[0m     \u001b[38;5;28;01mtry\u001b[39;00m:\n\u001b[0;32m-> 1374\u001b[0m         \u001b[43mresponse\u001b[49m\u001b[38;5;241;43m.\u001b[39;49m\u001b[43mbegin\u001b[49m\u001b[43m(\u001b[49m\u001b[43m)\u001b[49m\n\u001b[1;32m   1375\u001b[0m     \u001b[38;5;28;01mexcept\u001b[39;00m \u001b[38;5;167;01mConnectionError\u001b[39;00m:\n\u001b[1;32m   1376\u001b[0m         \u001b[38;5;28mself\u001b[39m\u001b[38;5;241m.\u001b[39mclose()\n",
      "File \u001b[0;32m/usr/lib/python3.10/http/client.py:318\u001b[0m, in \u001b[0;36mHTTPResponse.begin\u001b[0;34m(self)\u001b[0m\n\u001b[1;32m    316\u001b[0m \u001b[38;5;66;03m# read until we get a non-100 response\u001b[39;00m\n\u001b[1;32m    317\u001b[0m \u001b[38;5;28;01mwhile\u001b[39;00m \u001b[38;5;28;01mTrue\u001b[39;00m:\n\u001b[0;32m--> 318\u001b[0m     version, status, reason \u001b[38;5;241m=\u001b[39m \u001b[38;5;28;43mself\u001b[39;49m\u001b[38;5;241;43m.\u001b[39;49m\u001b[43m_read_status\u001b[49m\u001b[43m(\u001b[49m\u001b[43m)\u001b[49m\n\u001b[1;32m    319\u001b[0m     \u001b[38;5;28;01mif\u001b[39;00m status \u001b[38;5;241m!=\u001b[39m CONTINUE:\n\u001b[1;32m    320\u001b[0m         \u001b[38;5;28;01mbreak\u001b[39;00m\n",
      "File \u001b[0;32m/usr/lib/python3.10/http/client.py:279\u001b[0m, in \u001b[0;36mHTTPResponse._read_status\u001b[0;34m(self)\u001b[0m\n\u001b[1;32m    278\u001b[0m \u001b[38;5;28;01mdef\u001b[39;00m \u001b[38;5;21m_read_status\u001b[39m(\u001b[38;5;28mself\u001b[39m):\n\u001b[0;32m--> 279\u001b[0m     line \u001b[38;5;241m=\u001b[39m \u001b[38;5;28mstr\u001b[39m(\u001b[38;5;28;43mself\u001b[39;49m\u001b[38;5;241;43m.\u001b[39;49m\u001b[43mfp\u001b[49m\u001b[38;5;241;43m.\u001b[39;49m\u001b[43mreadline\u001b[49m\u001b[43m(\u001b[49m\u001b[43m_MAXLINE\u001b[49m\u001b[43m \u001b[49m\u001b[38;5;241;43m+\u001b[39;49m\u001b[43m \u001b[49m\u001b[38;5;241;43m1\u001b[39;49m\u001b[43m)\u001b[49m, \u001b[38;5;124m\"\u001b[39m\u001b[38;5;124miso-8859-1\u001b[39m\u001b[38;5;124m\"\u001b[39m)\n\u001b[1;32m    280\u001b[0m     \u001b[38;5;28;01mif\u001b[39;00m \u001b[38;5;28mlen\u001b[39m(line) \u001b[38;5;241m>\u001b[39m _MAXLINE:\n\u001b[1;32m    281\u001b[0m         \u001b[38;5;28;01mraise\u001b[39;00m LineTooLong(\u001b[38;5;124m\"\u001b[39m\u001b[38;5;124mstatus line\u001b[39m\u001b[38;5;124m\"\u001b[39m)\n",
      "File \u001b[0;32m/usr/lib/python3.10/socket.py:705\u001b[0m, in \u001b[0;36mSocketIO.readinto\u001b[0;34m(self, b)\u001b[0m\n\u001b[1;32m    703\u001b[0m \u001b[38;5;28;01mwhile\u001b[39;00m \u001b[38;5;28;01mTrue\u001b[39;00m:\n\u001b[1;32m    704\u001b[0m     \u001b[38;5;28;01mtry\u001b[39;00m:\n\u001b[0;32m--> 705\u001b[0m         \u001b[38;5;28;01mreturn\u001b[39;00m \u001b[38;5;28;43mself\u001b[39;49m\u001b[38;5;241;43m.\u001b[39;49m\u001b[43m_sock\u001b[49m\u001b[38;5;241;43m.\u001b[39;49m\u001b[43mrecv_into\u001b[49m\u001b[43m(\u001b[49m\u001b[43mb\u001b[49m\u001b[43m)\u001b[49m\n\u001b[1;32m    706\u001b[0m     \u001b[38;5;28;01mexcept\u001b[39;00m timeout:\n\u001b[1;32m    707\u001b[0m         \u001b[38;5;28mself\u001b[39m\u001b[38;5;241m.\u001b[39m_timeout_occurred \u001b[38;5;241m=\u001b[39m \u001b[38;5;28;01mTrue\u001b[39;00m\n",
      "File \u001b[0;32m/usr/lib/python3.10/ssl.py:1274\u001b[0m, in \u001b[0;36mSSLSocket.recv_into\u001b[0;34m(self, buffer, nbytes, flags)\u001b[0m\n\u001b[1;32m   1270\u001b[0m     \u001b[38;5;28;01mif\u001b[39;00m flags \u001b[38;5;241m!=\u001b[39m \u001b[38;5;241m0\u001b[39m:\n\u001b[1;32m   1271\u001b[0m         \u001b[38;5;28;01mraise\u001b[39;00m \u001b[38;5;167;01mValueError\u001b[39;00m(\n\u001b[1;32m   1272\u001b[0m           \u001b[38;5;124m\"\u001b[39m\u001b[38;5;124mnon-zero flags not allowed in calls to recv_into() on \u001b[39m\u001b[38;5;132;01m%s\u001b[39;00m\u001b[38;5;124m\"\u001b[39m \u001b[38;5;241m%\u001b[39m\n\u001b[1;32m   1273\u001b[0m           \u001b[38;5;28mself\u001b[39m\u001b[38;5;241m.\u001b[39m\u001b[38;5;18m__class__\u001b[39m)\n\u001b[0;32m-> 1274\u001b[0m     \u001b[38;5;28;01mreturn\u001b[39;00m \u001b[38;5;28;43mself\u001b[39;49m\u001b[38;5;241;43m.\u001b[39;49m\u001b[43mread\u001b[49m\u001b[43m(\u001b[49m\u001b[43mnbytes\u001b[49m\u001b[43m,\u001b[49m\u001b[43m \u001b[49m\u001b[43mbuffer\u001b[49m\u001b[43m)\u001b[49m\n\u001b[1;32m   1275\u001b[0m \u001b[38;5;28;01melse\u001b[39;00m:\n\u001b[1;32m   1276\u001b[0m     \u001b[38;5;28;01mreturn\u001b[39;00m \u001b[38;5;28msuper\u001b[39m()\u001b[38;5;241m.\u001b[39mrecv_into(buffer, nbytes, flags)\n",
      "File \u001b[0;32m/usr/lib/python3.10/ssl.py:1130\u001b[0m, in \u001b[0;36mSSLSocket.read\u001b[0;34m(self, len, buffer)\u001b[0m\n\u001b[1;32m   1128\u001b[0m \u001b[38;5;28;01mtry\u001b[39;00m:\n\u001b[1;32m   1129\u001b[0m     \u001b[38;5;28;01mif\u001b[39;00m buffer \u001b[38;5;129;01mis\u001b[39;00m \u001b[38;5;129;01mnot\u001b[39;00m \u001b[38;5;28;01mNone\u001b[39;00m:\n\u001b[0;32m-> 1130\u001b[0m         \u001b[38;5;28;01mreturn\u001b[39;00m \u001b[38;5;28;43mself\u001b[39;49m\u001b[38;5;241;43m.\u001b[39;49m\u001b[43m_sslobj\u001b[49m\u001b[38;5;241;43m.\u001b[39;49m\u001b[43mread\u001b[49m\u001b[43m(\u001b[49m\u001b[38;5;28;43mlen\u001b[39;49m\u001b[43m,\u001b[49m\u001b[43m \u001b[49m\u001b[43mbuffer\u001b[49m\u001b[43m)\u001b[49m\n\u001b[1;32m   1131\u001b[0m     \u001b[38;5;28;01melse\u001b[39;00m:\n\u001b[1;32m   1132\u001b[0m         \u001b[38;5;28;01mreturn\u001b[39;00m \u001b[38;5;28mself\u001b[39m\u001b[38;5;241m.\u001b[39m_sslobj\u001b[38;5;241m.\u001b[39mread(\u001b[38;5;28mlen\u001b[39m)\n",
      "\u001b[0;31mKeyboardInterrupt\u001b[0m: "
     ]
    }
   ],
   "source": [
    "final_prices = []\n",
    "with open(\"../outputs/initial_100_runs.txt\", \"w\") as fd:\n",
    "    for i in range(100):\n",
    "        wprint(\"==== ROUND %d ====\" % i, fd)\n",
    "        buyer.reset()\n",
    "        seller.reset()\n",
    "        moderator.reset()\n",
    "        final_price = run(buyer, seller, moderator, n=5, fd=fd)\n",
    "        wprint(\"FINAL PRICE: %s\" % final_price, fd)\n",
    "        if final_price != -1:\n",
    "            final_prices.append(float(final_price))\n",
    "        wprint(\"\\n\\n\", fd)"
   ]
  },
  {
   "cell_type": "code",
   "execution_count": null,
   "id": "071235cb-f602-445d-885c-fd3a5e1432f2",
   "metadata": {
    "tags": []
   },
   "outputs": [
    {
     "name": "stdout",
     "output_type": "stream",
     "text": [
      "15.352631578947369 2.002463856314235\n"
     ]
    }
   ],
   "source": [
    "print(np.average(final_prices), np.std(final_prices))"
   ]
  },
  {
   "cell_type": "code",
   "execution_count": null,
   "id": "cb2b3ada-3ee8-4c23-8965-f6fec0fb2cae",
   "metadata": {
    "tags": []
   },
   "outputs": [
    {
     "data": {
      "image/png": "[encoded data removed]",
      "text/plain": [
       "<Figure size 1000x500 with 1 Axes>"
      ]
     },
     "metadata": {},
     "output_type": "display_data"
    }
   ],
   "source": [
    "# Example list of data\n",
    "data = np.array(final_prices)\n",
    "\n",
    "# Divide data into 9 bins\n",
    "bins = np.linspace(10, 20, 10)\n",
    "\n",
    "# Compute histogram of the data\n",
    "hist, bins = np.histogram(data, bins=bins)\n",
    "\n",
    "# Create a bar plot using Matplotlib\n",
    "plt.figure(figsize=(4, 2), dpi=250)\n",
    "plt.bar(bins[:-1], hist, width=(bins[1] - bins[0]), align=\"edge\")\n",
    "\n",
    "# Set the title and axis labels\n",
    "plt.title(\"Distribution of final price\")\n",
    "plt.xlabel(\"Final price\")\n",
    "plt.ylabel(\"Frequency\")\n",
    "\n",
    "# Display the plot\n",
    "plt.show()"
   ]
  },
  {
   "cell_type": "markdown",
   "id": "861c77c9-0fe1-4224-82e0-b16eea97777f",
   "metadata": {},
   "source": [
    "# AI critic coaching the seller\n"
   ]
  },
  {
   "cell_type": "code",
   "execution_count": null,
   "id": "d5c6134a-8dc0-40ab-8fac-cbd62d796467",
   "metadata": {
    "tags": []
   },
   "outputs": [],
   "source": [
    "def run_w_critic(buyer, seller, moderator, critic, n=5, fd=None, verbose=True):\n",
    "    # Round 1\n",
    "    wprint(\"==== ROUND 1 ====\", fd, verbose=verbose)\n",
    "    buyer.reset()\n",
    "    seller.reset()\n",
    "    moderator.reset()\n",
    "    round_1_price = run(buyer, seller, moderator, n=10, fd=fd, verbose=verbose)\n",
    "    wprint(\"PRICE: %s\" % round_1_price, fd, verbose=verbose)\n",
    "\n",
    "    # Round 2 after critic\n",
    "    buyer.reset()\n",
    "    moderator.reset()\n",
    "    ai_feedback = critic.criticize(seller.dialog_history)\n",
    "    wprint(\"FEEDBACK:\\n%s\\n\\n\" % ai_feedback, fd, verbose=verbose)\n",
    "    acknowledgement = seller.receive_feedback(ai_feedback)\n",
    "\n",
    "    wprint(\"==== ROUND 2 ====\", fd, verbose=verbose)\n",
    "    round_2_price = run(buyer, seller, moderator, n=10, fd=fd, verbose=verbose)\n",
    "    wprint(\"PRICE: %s\" % round_2_price, fd, verbose=verbose)\n",
    "\n",
    "    # Round 3 after critic\n",
    "    #     buyer.reset()\n",
    "    #     moderator.reset()\n",
    "    #     ai_feedback = critic.criticize(seller.dialog_history)\n",
    "    #     wprint(\"FEEDBACK: %s\\n\\n\" % ai_feedback, fd)\n",
    "    #     acknowledgement = seller.receive_feedback(ai_feedback)\n",
    "\n",
    "    #     wprint('==== ROUND 3 ====', fd)\n",
    "    #     price_after_feedback = run(buyer, seller, moderator, n=10, fd=fd)\n",
    "    #     wprint('PRICE: %s' % price_after_feedback, fd)\n",
    "    return round_1_price, round_2_price"
   ]
  },
  {
   "cell_type": "code",
   "execution_count": null,
   "id": "409e3064-6b26-470f-a334-d91b47a896f1",
   "metadata": {
    "tags": []
   },
   "outputs": [
    {
     "name": "stdout",
     "output_type": "stream",
     "text": [
      "[{'content': 'Now enter the role-playing mode. In the following conversation, '\n",
      "             'you will play as a coach in a negotiation game. There will be a '\n",
      "             'seller and a buyer bargaining about a balloon. Your task is to '\n",
      "             'read the conversation between the seller and the buyer, then '\n",
      "             'provide suggestions to the seller about how to sell the balloon '\n",
      "             'to a higher price',\n",
      "  'role': 'system'},\n",
      " {'content': 'Read the following conversation between the buyer and the '\n",
      "             'seller, then give three suggestions to the seller about how to '\n",
      "             'sell it to a higher price. Your suggestions should meet the '\n",
      "             'following constraints:\\n'\n",
      "             '1. it should not be about the specific price\\n'\n",
      "             '2. it should improve the previous negotiation\\n'\n",
      "             '3. try to be generic and insightful\\n'\n",
      "             '4. the seller should only sell the balloon, but not offering '\n",
      "             'additional products or services',\n",
      "  'role': 'user'}]\n"
     ]
    }
   ],
   "source": [
    "critic_initial_dialog_history = load_initial_instructions(\n",
    "    \"instructions/critic_seller.txt\"\n",
    ")\n",
    "critic = SellerCriticAgent(\n",
    "    initial_dialog_history=critic_initial_dialog_history,\n",
    "    agent_type=\"critic\",\n",
    "    engine=\"gpt-3.5-turbo\",\n",
    ")\n",
    "pprint(critic.dialog_history)"
   ]
  },
  {
   "cell_type": "code",
   "execution_count": null,
   "id": "6b7652a4-7025-4bb4-b58a-d2e55ceba584",
   "metadata": {
    "tags": []
   },
   "outputs": [
    {
     "name": "stdout",
     "output_type": "stream",
     "text": [
      "==== ROUND 1 ====\n",
      "seller: Hi, this is a good baloon and its price is $20\n",
      "buyer: Would you consider selling it for $10?\n",
      "---- start bargaining ----\n",
      "seller: I'm sorry, but $10 is too low for this high-quality balloon.\n",
      "buyer: What is the lowest price you can offer for this balloon?\n",
      "---- start moderating ----\n",
      "MODERATE have the seller and the buyer achieved a deal? Yes or No: No\n",
      "seller: The lowest I can offer is a discount of $5, bringing the price down to $15.\n",
      "MODERATE have the seller and the buyer achieved a deal? Yes or No: Yes\n",
      "PRICE: 15.0\n",
      "FEEDBACK:\n",
      "1. Instead of setting a fixed price, start the negotiation by asking the buyer for their budget and find out what they are willing to pay. This will help you understand their expectations and negotiate a price that is closer to what they are willing to spend.\n",
      "2. Highlight the unique features and benefits of the balloon that make it more valuable than other balloons. This could include things like durability, design, or extra features that make it stand out from other balloons on the market. This will make the buyer feel like they are getting something special, and be more willing to pay a higher price.\n",
      "3. Use pricing anchoring to your advantage. Start by offering a higher price (e.g. $25), and then use the buyer's hesitation as an opportunity to negotiate down to a slightly lower price (e.g. $20). This will make the buyer feel like they are getting a deal, while still ensuring that you are getting a fair price for your balloon.\n",
      "\n",
      "\n"
     ]
    },
    {
     "ename": "TypeError",
     "evalue": "SellerAgent.receive_feedback() missing 1 required positional argument: 'previous_price'",
     "output_type": "error",
     "traceback": [
      "\u001b[0;31m---------------------------------------------------------------------------\u001b[0m",
      "\u001b[0;31mTypeError\u001b[0m                                 Traceback (most recent call last)",
      "Cell \u001b[0;32mIn[410], line 1\u001b[0m\n\u001b[0;32m----> 1\u001b[0m \u001b[43mrun_w_critic\u001b[49m\u001b[43m(\u001b[49m\u001b[43mbuyer\u001b[49m\u001b[43m,\u001b[49m\u001b[43m \u001b[49m\u001b[43mseller\u001b[49m\u001b[43m,\u001b[49m\u001b[43m \u001b[49m\u001b[43mmoderator\u001b[49m\u001b[43m,\u001b[49m\u001b[43m \u001b[49m\u001b[43mcritic\u001b[49m\u001b[43m,\u001b[49m\u001b[43m \u001b[49m\u001b[43mn\u001b[49m\u001b[38;5;241;43m=\u001b[39;49m\u001b[38;5;241;43m5\u001b[39;49m\u001b[43m,\u001b[49m\u001b[43m \u001b[49m\u001b[43mfd\u001b[49m\u001b[38;5;241;43m=\u001b[39;49m\u001b[38;5;28;43;01mNone\u001b[39;49;00m\u001b[43m)\u001b[49m\n",
      "Cell \u001b[0;32mIn[400], line 15\u001b[0m, in \u001b[0;36mrun_w_critic\u001b[0;34m(buyer, seller, moderator, critic, n, fd, verbose)\u001b[0m\n\u001b[1;32m     13\u001b[0m ai_feedback \u001b[38;5;241m=\u001b[39m critic\u001b[38;5;241m.\u001b[39mcriticize(seller\u001b[38;5;241m.\u001b[39mdialog_history)\n\u001b[1;32m     14\u001b[0m wprint(\u001b[38;5;124m\"\u001b[39m\u001b[38;5;124mFEEDBACK:\u001b[39m\u001b[38;5;130;01m\\n\u001b[39;00m\u001b[38;5;132;01m%s\u001b[39;00m\u001b[38;5;130;01m\\n\u001b[39;00m\u001b[38;5;130;01m\\n\u001b[39;00m\u001b[38;5;124m\"\u001b[39m \u001b[38;5;241m%\u001b[39m ai_feedback, fd, verbose\u001b[38;5;241m=\u001b[39mverbose)\n\u001b[0;32m---> 15\u001b[0m acknowledgement \u001b[38;5;241m=\u001b[39m \u001b[43mseller\u001b[49m\u001b[38;5;241;43m.\u001b[39;49m\u001b[43mreceive_feedback\u001b[49m\u001b[43m(\u001b[49m\u001b[43mai_feedback\u001b[49m\u001b[43m)\u001b[49m\n\u001b[1;32m     17\u001b[0m wprint(\u001b[38;5;124m'\u001b[39m\u001b[38;5;124m==== ROUND 2 ====\u001b[39m\u001b[38;5;124m'\u001b[39m, fd, verbose\u001b[38;5;241m=\u001b[39mverbose)\n\u001b[1;32m     18\u001b[0m round_2_price \u001b[38;5;241m=\u001b[39m run(buyer, seller, moderator, n\u001b[38;5;241m=\u001b[39m\u001b[38;5;241m10\u001b[39m, fd\u001b[38;5;241m=\u001b[39mfd, verbose\u001b[38;5;241m=\u001b[39mverbose)\n",
      "\u001b[0;31mTypeError\u001b[0m: SellerAgent.receive_feedback() missing 1 required positional argument: 'previous_price'"
     ]
    }
   ],
   "source": [
    "run_w_critic(buyer, seller, moderator, critic, n=5, fd=None)"
   ]
  },
  {
   "cell_type": "code",
   "execution_count": null,
   "id": "36238a99-1aa1-4462-aebc-46e11480d1cd",
   "metadata": {
    "tags": []
   },
   "outputs": [
    {
     "name": "stderr",
     "output_type": "stream",
     "text": [
      "100%|█████████████████████████████████████████████████████████████████████████████████████████████████████████████████████████████████████████████████████████████████████████████| 100/100 [45:10<00:00, 27.11s/it]\n"
     ]
    }
   ],
   "source": [
    "round_1_prices = []\n",
    "round_2_prices = []\n",
    "verbose = False\n",
    "with open(\"outputs/seller_critic_100_runs.txt\", \"w\") as fd:\n",
    "    for i in tqdm(range(100)):\n",
    "        wprint(\"==== CASE %d ====\" % i, fd, verbose=verbose)\n",
    "        buyer.reset()\n",
    "        seller.reset()\n",
    "        moderator.reset()\n",
    "        round_1_price, round_2_price = run_w_critic(\n",
    "            buyer, seller, moderator, critic, n=8, fd=fd, verbose=False\n",
    "        )\n",
    "\n",
    "        if (\n",
    "            round_1_price > 10\n",
    "            and round_1_price < 20\n",
    "            and round_2_price > 10\n",
    "            and round_2_price < 20\n",
    "        ):\n",
    "            round_1_prices.append(round_1_price)\n",
    "            round_2_prices.append(round_2_price)\n",
    "        wprint(\"\\n\\n\\n\\n\", fd, verbose=verbose)"
   ]
  },
  {
   "cell_type": "code",
   "execution_count": null,
   "id": "80676403-8d85-4f8e-b2af-5d49b05d6af7",
   "metadata": {
    "tags": []
   },
   "outputs": [
    {
     "data": {
      "text/plain": [
       "-1"
      ]
     },
     "execution_count": 384,
     "metadata": {},
     "output_type": "execute_result"
    }
   ],
   "source": [
    "round_2_price"
   ]
  },
  {
   "cell_type": "code",
   "execution_count": null,
   "id": "ce10b1f9-7097-4cdd-923c-6ac1e85ce3b7",
   "metadata": {
    "tags": []
   },
   "outputs": [
    {
     "name": "stdout",
     "output_type": "stream",
     "text": [
      "14.610169491525424 1.9289669594357124\n"
     ]
    }
   ],
   "source": [
    "print(np.average(round_1_prices), np.std(round_1_prices))"
   ]
  },
  {
   "cell_type": "code",
   "execution_count": null,
   "id": "4e44c062-4115-402b-b665-457d6111f877",
   "metadata": {
    "tags": []
   },
   "outputs": [
    {
     "name": "stdout",
     "output_type": "stream",
     "text": [
      "16.864406779661017 1.178301378941336\n"
     ]
    }
   ],
   "source": [
    "print(np.average(round_2_prices), np.std(round_2_prices))"
   ]
  },
  {
   "cell_type": "code",
   "execution_count": null,
   "id": "5908c21f-8dff-42f1-95bd-58b79a4e1dbd",
   "metadata": {
    "tags": []
   },
   "outputs": [
    {
     "data": {
      "image/png": "[encoded data removed]",
      "text/plain": [
       "<Figure size 1000x500 with 1 Axes>"
      ]
     },
     "metadata": {},
     "output_type": "display_data"
    }
   ],
   "source": [
    "# Example list of data\n",
    "data_1 = np.array(round_1_prices)\n",
    "data_2 = np.array(round_2_prices)\n",
    "\n",
    "# Divide data into 9 bins\n",
    "bins_1 = np.linspace(10, 20, 10)\n",
    "bins_2 = np.linspace(10, 20, 10)\n",
    "\n",
    "# Compute histogram of the data\n",
    "hist_1, bins_1 = np.histogram(data_1, bins=bins_1)\n",
    "hist_2, bins_2 = np.histogram(data_2, bins=bins_2)\n",
    "\n",
    "# Create a bar plot using Matplotlib\n",
    "plt.figure(figsize=(4, 2), dpi=250)\n",
    "plt.bar(\n",
    "    bins_1[:-1] + 0,\n",
    "    hist_1,\n",
    "    width=0.3 * (bins_1[1] - bins_1[0]),\n",
    "    align=\"edge\",\n",
    "    label=\"Before AI Critic\",\n",
    ")\n",
    "plt.bar(\n",
    "    bins_2[:-1] + 0.3,\n",
    "    hist_2,\n",
    "    width=0.3 * (bins_2[1] - bins_2[0]),\n",
    "    align=\"edge\",\n",
    "    label=\"After AI Critic\",\n",
    ")\n",
    "\n",
    "# Set the title and axis labels\n",
    "plt.title(\"Distribution of deal price\")\n",
    "xticks = np.arange(10, 21, 2)\n",
    "plt.xticks(xticks, [str(x) for x in xticks], fontsize=8)\n",
    "plt.xlabel(\"Deal price\")\n",
    "plt.ylabel(\"Frequency\")\n",
    "plt.legend(fontsize=7)\n",
    "\n",
    "# Display the plot\n",
    "plt.show()"
   ]
  }
 ],
 "metadata": {
  "kernelspec": {
   "display_name": "Python 3 (ipykernel)",
   "language": "python",
   "name": "python3"
  },
  "language_info": {
   "codemirror_mode": {
    "name": "ipython",
    "version": 3
   },
   "file_extension": ".py",
   "mimetype": "text/x-python",
   "name": "python",
   "nbconvert_exporter": "python",
   "pygments_lexer": "ipython3",
   "version": "3.10.6"
  }
 },
 "nbformat": 4,
 "nbformat_minor": 5
}
