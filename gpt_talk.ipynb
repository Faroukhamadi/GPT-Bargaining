{
 "cells": [
  {
   "cell_type": "markdown",
   "id": "c05f76a4-3c5e-441d-aef5-8bf9078b178b",
   "metadata": {},
   "source": [
    "# Use OpenAI ChatGPT API to simulate dialog"
   ]
  },
  {
   "cell_type": "code",
   "execution_count": 1,
   "id": "9f6c1041-38dd-4301-89ad-c0e27f1a7857",
   "metadata": {},
   "outputs": [],
   "source": [
    "import openai\n",
    "import re\n",
    "import time\n",
    "\n",
    "import numpy as np\n",
    "\n",
    "from tqdm import tqdm\n",
    "from agent import GPTAgent"
   ]
  },
  {
   "cell_type": "code",
   "execution_count": 2,
   "id": "ac2b919b-adc6-4e90-9eb1-90ed64da8359",
   "metadata": {},
   "outputs": [],
   "source": [
    "openai.api_key = \"sk-\" "
   ]
  },
  {
   "cell_type": "code",
   "execution_count": 42,
   "id": "68592b3f-4b64-438a-b465-e90c61333bc0",
   "metadata": {},
   "outputs": [],
   "source": [
    "task_list = open('initial_instructions/task_list.txt').readlines()\n",
    "coding_questions = open('initial_instructions/coding_questions.txt').readlines()\n",
    "querier_initial_instructions = open('initial_instructions/querier.txt').read()\n",
    "answerer_initial_instructions = open('initial_instructions/answerer.txt').read()"
   ]
  },
  {
   "cell_type": "code",
   "execution_count": 43,
   "id": "389ee08e-271a-42d5-90f4-6476c075d1dc",
   "metadata": {},
   "outputs": [
    {
     "data": {
      "text/plain": [
       "'write Python code | write some Python code\\n'"
      ]
     },
     "execution_count": 43,
     "metadata": {},
     "output_type": "execute_result"
    }
   ],
   "source": [
    "task_list[0]"
   ]
  },
  {
   "cell_type": "code",
   "execution_count": 44,
   "id": "962ff991-24a6-4732-a28e-b265ccc717a6",
   "metadata": {},
   "outputs": [
    {
     "data": {
      "text/plain": [
       "'write a program to reverse a string.'"
      ]
     },
     "execution_count": 44,
     "metadata": {},
     "output_type": "execute_result"
    }
   ],
   "source": [
    "coding_questions[0].strip().lower()"
   ]
  },
  {
   "cell_type": "code",
   "execution_count": 53,
   "id": "f7e81e41-3567-47a6-9235-062317104a78",
   "metadata": {},
   "outputs": [],
   "source": [
    "querier_initial_instructions = querier_initial_instructions.replace('DO_A_TASK', coding_questions[0].strip().lower())"
   ]
  },
  {
   "cell_type": "code",
   "execution_count": 54,
   "id": "e4d666ba-1b59-45ce-bb5f-8cc300b15439",
   "metadata": {},
   "outputs": [],
   "source": [
    "querier = GPTAgent(initial_instruction=querier_initial_instructions)"
   ]
  },
  {
   "cell_type": "code",
   "execution_count": 55,
   "id": "811f66ca-7f7d-4b5e-9b4d-0586b1d94115",
   "metadata": {},
   "outputs": [
    {
     "data": {
      "text/plain": [
       "[{'role': 'system', 'content': 'You are a helpful assistant.'},\n",
       " {'role': 'user',\n",
       "  'content': \"Let's play a game. Pretend you are asking another machine to write a program to reverse a string. in Python for you. You need to first ask him a question then continue ask follow-up questions. Now ask your question to the machine. \"},\n",
       " {'role': 'assistant',\n",
       "  'content': \"Sure, I'm ready. Here's my question: Can you please write a Python program to reverse a given string?\"}]"
      ]
     },
     "execution_count": 55,
     "metadata": {},
     "output_type": "execute_result"
    }
   ],
   "source": [
    "querier.dialog_history"
   ]
  },
  {
   "cell_type": "code",
   "execution_count": 56,
   "id": "458081ad-8b0e-47f1-acf1-b522e560327b",
   "metadata": {},
   "outputs": [],
   "source": [
    "answerer_initial_instructions = answerer_initial_instructions.replace('DO_A_TASK', task_list[0].strip().split(\" | \")[1])"
   ]
  },
  {
   "cell_type": "code",
   "execution_count": 57,
   "id": "c10cc587-24ab-4e4c-9be0-8fca336454dd",
   "metadata": {},
   "outputs": [],
   "source": [
    "answerer = GPTAgent(initial_instruction=answerer_initial_instructions)"
   ]
  },
  {
   "cell_type": "code",
   "execution_count": 58,
   "id": "e1b21d2c-108b-43af-baee-fc12a1e9a7b7",
   "metadata": {},
   "outputs": [
    {
     "data": {
      "text/plain": [
       "[{'role': 'system', 'content': 'You are a helpful assistant.'},\n",
       " {'role': 'user', 'content': 'Please help me write some Python code:'},\n",
       " {'role': 'assistant',\n",
       "  'content': 'Sure, what do you need help with? What is the task you are trying to accomplish?'}]"
      ]
     },
     "execution_count": 58,
     "metadata": {},
     "output_type": "execute_result"
    }
   ],
   "source": [
    "answerer.dialog_history"
   ]
  },
  {
   "cell_type": "code",
   "execution_count": 59,
   "id": "8f9cda4b-e307-4609-9b98-22b5dbca1504",
   "metadata": {},
   "outputs": [
    {
     "name": "stderr",
     "output_type": "stream",
     "text": [
      "100%|███████████████████████████████████████████████████████████████████████████████████████████████████████████████████████████| 5/5 [00:11<00:00,  2.23s/it]\n"
     ]
    }
   ],
   "source": [
    "query = querier.dialog_history[-1]['content'].split('\\n')[-1]\n",
    "for _ in tqdm(range(5)):\n",
    "    answer = answerer.call(query)\n",
    "    query = querier.call(answer)"
   ]
  },
  {
   "cell_type": "code",
   "execution_count": 60,
   "id": "937a5b83-ca0e-4763-862b-7462d5e9437e",
   "metadata": {},
   "outputs": [
    {
     "data": {
      "text/plain": [
       "[{'role': 'system', 'content': 'You are a helpful assistant.'},\n",
       " {'role': 'user',\n",
       "  'content': \"Let's play a game. Pretend you are asking another machine to write a program to reverse a string. in Python for you. You need to first ask him a question then continue ask follow-up questions. Now ask your question to the machine. \"},\n",
       " {'role': 'assistant',\n",
       "  'content': \"Sure, I'm ready. Here's my question: Can you please write a Python program to reverse a given string?\"},\n",
       " {'role': 'user',\n",
       "  'content': \"Yes, of course! Here is one way to do it:\\n\\n```python\\ndef reverse_string(s):\\n    # convert string to list first\\n    s = list(s)\\n    # use two pointers to swap characters in place\\n    left = 0\\n    right = len(s) - 1\\n    while left < right:\\n        s[left], s[right] = s[right], s[left]\\n        left += 1\\n        right -= 1\\n    # convert list back to string\\n    return ''.join(s)\\n```\\n\\nYou can test the function by calling it with a string as an argument:\\n\\n```python\\nprint(reverse_string('hello world'))\\n# output: 'dlrow olleh'\\n```\\n\\nThe `reverse_string` function takes a string as input and returns a new string with the characters in reverse order. The function first converts the input string to a list of characters, then uses two pointers to swap the first and last characters, then the second and second to last characters, and so on until the middle of the string is reached. Finally, the function converts the list back to a string and returns it.\"},\n",
       " {'role': 'assistant',\n",
       "  'content': 'Thanks for sharing the program with me! It looks great and well explained. Just one minor question: Can you please explain what this line does: `s = list(s)`?'},\n",
       " {'role': 'user',\n",
       "  'content': \"Certainly! \\n\\n`s = list(s)` converts the given string `s` to a list of its constituent characters. For example, the string `'hello'` would be converted to the list `['h', 'e', 'l', 'l', 'o']`.\\n\\nThe reason for doing this is to enable us to modify the string, since strings are immutable in Python. Lists, on the other hand, are mutable, so we can swap characters in place, as needed.\\n\\nOnce we've completed the string reversal, we convert the list back to a string using the `join` method, like this: `return ''.join(s)`. This creates a new string from the characters in the list.\"},\n",
       " {'role': 'assistant',\n",
       "  'content': 'Great explanation! I appreciate it. So to summarize, `s = list(s)` converts the string `s` to a list of characters, which in turn allows us to modify the string since we can directly manipulate the list. Once we complete the reversal, we use `join()` method to convert the list back to a string object.\\n\\nThank you for clarifying that for me!'},\n",
       " {'role': 'user',\n",
       "  'content': \"You're welcome! Yes, that's exactly right. Converting the string to a list of characters allows us to modify it in a way that we can't with a string. And then we convert the modified list back into a string using the `join()` method. Let me know if you have any more questions or if there's anything else I can do to help!\"},\n",
       " {'role': 'assistant',\n",
       "  'content': \"Thanks again for your help, you've been a fantastic assistant! If I have any more questions or need further assistance, I'll definitely reach out to you. Have a great day!\"},\n",
       " {'role': 'user',\n",
       "  'content': \"You're welcome and thanks for your kind words! Feel free to reach out to me anytime if you need further assistance or have any other questions. Have a great day too!\"},\n",
       " {'role': 'assistant',\n",
       "  'content': \"As an AI language model, I don't have the capability to have a day or a night, but I am always here to help you, no matter what time of the day or night it is! Don't hesitate to ask if you have any more questions or if there's anything else I can do to assist.\"},\n",
       " {'role': 'user',\n",
       "  'content': \"Thank you, I appreciate your willingness to help me out whenever I need it! It's great to know that I can count on you, regardless of the time of day or night. I'll definitely reach out to you again if I have more questions or need further assistance.\"},\n",
       " {'role': 'assistant',\n",
       "  'content': \"You're welcome! I'm always here to help you out, so feel free to ask me anything you need. Have a great day!\"}]"
      ]
     },
     "execution_count": 60,
     "metadata": {},
     "output_type": "execute_result"
    }
   ],
   "source": [
    "querier.dialog_history"
   ]
  }
 ],
 "metadata": {
  "kernelspec": {
   "display_name": "Python 3 (ipykernel)",
   "language": "python",
   "name": "python3"
  },
  "language_info": {
   "codemirror_mode": {
    "name": "ipython",
    "version": 3
   },
   "file_extension": ".py",
   "mimetype": "text/x-python",
   "name": "python",
   "nbconvert_exporter": "python",
   "pygments_lexer": "ipython3",
   "version": "3.7.11"
  }
 },
 "nbformat": 4,
 "nbformat_minor": 5
}
